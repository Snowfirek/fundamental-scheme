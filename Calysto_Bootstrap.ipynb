{
  "nbformat": 4,
  "nbformat_minor": 0,
  "metadata": {
    "kernelspec": {
      "display_name": "Calysto Scheme (Python)",
      "language": "scheme",
      "name": "calysto_scheme"
    },
    "language_info": {
      "codemirror_mode": {
        "name": "scheme"
      },
      "mimetype": "text/x-scheme",
      "name": "scheme",
      "pygments_lexer": "scheme"
    },
    "colab": {
      "name": "Calysto_Bootstrap.ipynb",
      "provenance": [],
      "include_colab_link": true
    }
  },
  "cells": [
    {
      "cell_type": "markdown",
      "metadata": {
        "id": "view-in-github",
        "colab_type": "text"
      },
      "source": [
        "<a href=\"https://colab.research.google.com/github/Snowfirek/fundamental-scheme/blob/master/Calysto_Bootstrap.ipynb\" target=\"_parent\"><img src=\"https://colab.research.google.com/assets/colab-badge.svg\" alt=\"Open In Colab\"/></a>"
      ]
    },
    {
      "cell_type": "code",
      "metadata": {
        "id": "0uDbVUswWC0f",
        "colab_type": "code",
        "colab": {
          "base_uri": "https://localhost:8080/",
          "height": 697
        },
        "outputId": "e09cb1e9-91d8-48ea-8fe9-64955d503882"
      },
      "source": [
        "!pip3 install --upgrade calysto-scheme --user\n",
        "!python3 -m calysto_scheme install --user"
      ],
      "execution_count": 1,
      "outputs": [
        {
          "output_type": "stream",
          "text": [
            "Collecting calysto-scheme\n",
            "\u001b[?25l  Downloading https://files.pythonhosted.org/packages/e3/fe/a899c9f10b1b78ab6587a5692569f88727584ebeecd4bc177691823464cd/calysto_scheme-1.4.6-py2.py3-none-any.whl (313kB)\n",
            "\r\u001b[K     |█                               | 10kB 18.5MB/s eta 0:00:01\r\u001b[K     |██                              | 20kB 1.6MB/s eta 0:00:01\r\u001b[K     |███▏                            | 30kB 2.2MB/s eta 0:00:01\r\u001b[K     |████▏                           | 40kB 2.5MB/s eta 0:00:01\r\u001b[K     |█████▎                          | 51kB 1.9MB/s eta 0:00:01\r\u001b[K     |██████▎                         | 61kB 2.2MB/s eta 0:00:01\r\u001b[K     |███████▎                        | 71kB 2.4MB/s eta 0:00:01\r\u001b[K     |████████▍                       | 81kB 2.6MB/s eta 0:00:01\r\u001b[K     |█████████▍                      | 92kB 2.7MB/s eta 0:00:01\r\u001b[K     |██████████▌                     | 102kB 2.7MB/s eta 0:00:01\r\u001b[K     |███████████▌                    | 112kB 2.7MB/s eta 0:00:01\r\u001b[K     |████████████▌                   | 122kB 2.7MB/s eta 0:00:01\r\u001b[K     |█████████████▋                  | 133kB 2.7MB/s eta 0:00:01\r\u001b[K     |██████████████▋                 | 143kB 2.7MB/s eta 0:00:01\r\u001b[K     |███████████████▊                | 153kB 2.7MB/s eta 0:00:01\r\u001b[K     |████████████████▊               | 163kB 2.7MB/s eta 0:00:01\r\u001b[K     |█████████████████▊              | 174kB 2.7MB/s eta 0:00:01\r\u001b[K     |██████████████████▉             | 184kB 2.7MB/s eta 0:00:01\r\u001b[K     |███████████████████▉            | 194kB 2.7MB/s eta 0:00:01\r\u001b[K     |█████████████████████           | 204kB 2.7MB/s eta 0:00:01\r\u001b[K     |██████████████████████          | 215kB 2.7MB/s eta 0:00:01\r\u001b[K     |███████████████████████         | 225kB 2.7MB/s eta 0:00:01\r\u001b[K     |████████████████████████        | 235kB 2.7MB/s eta 0:00:01\r\u001b[K     |█████████████████████████       | 245kB 2.7MB/s eta 0:00:01\r\u001b[K     |██████████████████████████▏     | 256kB 2.7MB/s eta 0:00:01\r\u001b[K     |███████████████████████████▏    | 266kB 2.7MB/s eta 0:00:01\r\u001b[K     |████████████████████████████▎   | 276kB 2.7MB/s eta 0:00:01\r\u001b[K     |█████████████████████████████▎  | 286kB 2.7MB/s eta 0:00:01\r\u001b[K     |██████████████████████████████▎ | 296kB 2.7MB/s eta 0:00:01\r\u001b[K     |███████████████████████████████▍| 307kB 2.7MB/s eta 0:00:01\r\u001b[K     |████████████████████████████████| 317kB 2.7MB/s \n",
            "\u001b[?25hCollecting yasi\n",
            "  Downloading https://files.pythonhosted.org/packages/3a/58/e369cc04c658f6fbf53de6f05163fc6adbb16694ff7ae56886875fe30c07/yasi-2.1.2.tar.gz\n",
            "Collecting metakernel\n",
            "\u001b[?25l  Downloading https://files.pythonhosted.org/packages/f6/14/f0020ab2b2861593e94a62a03e3c370ad740f51f12f1681bbdf8c27aa01d/metakernel-0.24.4-py2.py3-none-any.whl (208kB)\n",
            "\r\u001b[K     |█▋                              | 10kB 15.0MB/s eta 0:00:01\r\u001b[K     |███▏                            | 20kB 21.5MB/s eta 0:00:01\r\u001b[K     |████▊                           | 30kB 27.6MB/s eta 0:00:01\r\u001b[K     |██████▎                         | 40kB 16.2MB/s eta 0:00:01\r\u001b[K     |███████▉                        | 51kB 11.0MB/s eta 0:00:01\r\u001b[K     |█████████▍                      | 61kB 12.7MB/s eta 0:00:01\r\u001b[K     |███████████                     | 71kB 11.5MB/s eta 0:00:01\r\u001b[K     |████████████▋                   | 81kB 12.6MB/s eta 0:00:01\r\u001b[K     |██████████████▏                 | 92kB 12.0MB/s eta 0:00:01\r\u001b[K     |███████████████▊                | 102kB 8.5MB/s eta 0:00:01\r\u001b[K     |█████████████████▎              | 112kB 8.5MB/s eta 0:00:01\r\u001b[K     |██████████████████▉             | 122kB 8.5MB/s eta 0:00:01\r\u001b[K     |████████████████████▌           | 133kB 8.5MB/s eta 0:00:01\r\u001b[K     |██████████████████████          | 143kB 8.5MB/s eta 0:00:01\r\u001b[K     |███████████████████████▋        | 153kB 8.5MB/s eta 0:00:01\r\u001b[K     |█████████████████████████▏      | 163kB 8.5MB/s eta 0:00:01\r\u001b[K     |██████████████████████████▊     | 174kB 8.5MB/s eta 0:00:01\r\u001b[K     |████████████████████████████▎   | 184kB 8.5MB/s eta 0:00:01\r\u001b[K     |█████████████████████████████▉  | 194kB 8.5MB/s eta 0:00:01\r\u001b[K     |███████████████████████████████▌| 204kB 8.5MB/s eta 0:00:01\r\u001b[K     |████████████████████████████████| 215kB 8.5MB/s \n",
            "\u001b[?25hCollecting colorama\n",
            "  Downloading https://files.pythonhosted.org/packages/c9/dc/45cdef1b4d119eb96316b3117e6d5708a08029992b2fee2c143c7a0a5cc5/colorama-0.4.3-py2.py3-none-any.whl\n",
            "Requirement already satisfied, skipping upgrade: ipykernel in /usr/local/lib/python3.6/dist-packages (from metakernel->calysto-scheme) (4.10.1)\n",
            "Requirement already satisfied, skipping upgrade: pexpect>=4.2 in /usr/local/lib/python3.6/dist-packages (from metakernel->calysto-scheme) (4.8.0)\n",
            "Requirement already satisfied, skipping upgrade: tornado>=4.0 in /usr/local/lib/python3.6/dist-packages (from ipykernel->metakernel->calysto-scheme) (5.1.1)\n",
            "Requirement already satisfied, skipping upgrade: traitlets>=4.1.0 in /usr/local/lib/python3.6/dist-packages (from ipykernel->metakernel->calysto-scheme) (4.3.3)\n",
            "Requirement already satisfied, skipping upgrade: jupyter-client in /usr/local/lib/python3.6/dist-packages (from ipykernel->metakernel->calysto-scheme) (5.3.5)\n",
            "Requirement already satisfied, skipping upgrade: ipython>=4.0.0 in /usr/local/lib/python3.6/dist-packages (from ipykernel->metakernel->calysto-scheme) (5.5.0)\n",
            "Requirement already satisfied, skipping upgrade: ptyprocess>=0.5 in /usr/local/lib/python3.6/dist-packages (from pexpect>=4.2->metakernel->calysto-scheme) (0.6.0)\n",
            "Requirement already satisfied, skipping upgrade: decorator in /usr/local/lib/python3.6/dist-packages (from traitlets>=4.1.0->ipykernel->metakernel->calysto-scheme) (4.4.2)\n",
            "Requirement already satisfied, skipping upgrade: six in /usr/local/lib/python3.6/dist-packages (from traitlets>=4.1.0->ipykernel->metakernel->calysto-scheme) (1.15.0)\n",
            "Requirement already satisfied, skipping upgrade: ipython-genutils in /usr/local/lib/python3.6/dist-packages (from traitlets>=4.1.0->ipykernel->metakernel->calysto-scheme) (0.2.0)\n",
            "Requirement already satisfied, skipping upgrade: python-dateutil>=2.1 in /usr/local/lib/python3.6/dist-packages (from jupyter-client->ipykernel->metakernel->calysto-scheme) (2.8.1)\n",
            "Requirement already satisfied, skipping upgrade: jupyter-core>=4.6.0 in /usr/local/lib/python3.6/dist-packages (from jupyter-client->ipykernel->metakernel->calysto-scheme) (4.6.3)\n",
            "Requirement already satisfied, skipping upgrade: pyzmq>=13 in /usr/local/lib/python3.6/dist-packages (from jupyter-client->ipykernel->metakernel->calysto-scheme) (19.0.1)\n",
            "Requirement already satisfied, skipping upgrade: pygments in /usr/local/lib/python3.6/dist-packages (from ipython>=4.0.0->ipykernel->metakernel->calysto-scheme) (2.1.3)\n",
            "Requirement already satisfied, skipping upgrade: setuptools>=18.5 in /usr/local/lib/python3.6/dist-packages (from ipython>=4.0.0->ipykernel->metakernel->calysto-scheme) (49.2.0)\n",
            "Requirement already satisfied, skipping upgrade: pickleshare in /usr/local/lib/python3.6/dist-packages (from ipython>=4.0.0->ipykernel->metakernel->calysto-scheme) (0.7.5)\n",
            "Requirement already satisfied, skipping upgrade: simplegeneric>0.8 in /usr/local/lib/python3.6/dist-packages (from ipython>=4.0.0->ipykernel->metakernel->calysto-scheme) (0.8.1)\n",
            "Requirement already satisfied, skipping upgrade: prompt-toolkit<2.0.0,>=1.0.4 in /usr/local/lib/python3.6/dist-packages (from ipython>=4.0.0->ipykernel->metakernel->calysto-scheme) (1.0.18)\n",
            "Requirement already satisfied, skipping upgrade: wcwidth in /usr/local/lib/python3.6/dist-packages (from prompt-toolkit<2.0.0,>=1.0.4->ipython>=4.0.0->ipykernel->metakernel->calysto-scheme) (0.2.5)\n",
            "Building wheels for collected packages: yasi\n",
            "  Building wheel for yasi (setup.py) ... \u001b[?25l\u001b[?25hdone\n",
            "  Created wheel for yasi: filename=yasi-2.1.2-cp36-none-any.whl size=20687 sha256=52c964765d597c6b29d1b343b3ef2ed9826442d93197db601dcd6536729c9a91\n",
            "  Stored in directory: /root/.cache/pip/wheels/61/fd/0b/8cb55b23a37b324c6e713804eaf594f9abb375d1eaf6dd4931\n",
            "Successfully built yasi\n",
            "Installing collected packages: colorama, yasi, metakernel, calysto-scheme\n",
            "\u001b[33m  WARNING: The script yasi is installed in '/root/.local/bin' which is not on PATH.\n",
            "  Consider adding this directory to PATH or, if you prefer to suppress this warning, use --no-warn-script-location.\u001b[0m\n",
            "Successfully installed calysto-scheme-1.4.6 colorama-0.4.3 metakernel-0.24.4 yasi-2.1.2\n",
            "[InstallKernelSpec] Removing existing kernelspec in /root/.local/share/jupyter/kernels/calysto_scheme\n",
            "[InstallKernelSpec] Installed kernelspec calysto_scheme in /root/.local/share/jupyter/kernels/calysto_scheme\n"
          ],
          "name": "stdout"
        }
      ]
    },
    {
      "cell_type": "code",
      "metadata": {
        "id": "WS2cLnq_XIVa",
        "colab_type": "code",
        "colab": {
          "base_uri": "https://localhost:8080/",
          "height": 34
        },
        "outputId": "398bb103-7d37-4824-aceb-efecbb44556a"
      },
      "source": [
        "(+ 1 1)"
      ],
      "execution_count": null,
      "outputs": [
        {
          "output_type": "execute_result",
          "data": {
            "text/plain": [
              "2"
            ]
          },
          "metadata": {
            "tags": []
          },
          "execution_count": 1
        }
      ]
    },
    {
      "cell_type": "code",
      "metadata": {
        "id": "ZQOhJyN6XJRr",
        "colab_type": "code",
        "colab": {
          "base_uri": "https://localhost:8080/",
          "height": 34
        },
        "outputId": "851cceee-d652-42d9-e6c0-689ce2a2d055"
      },
      "source": [
        "(define x 12)\n",
        "(define y 5)\n",
        "\n",
        "(define z (+ (* x x) (* y y)))\n",
        "\n",
        "(sqrt z)"
      ],
      "execution_count": null,
      "outputs": [
        {
          "output_type": "execute_result",
          "data": {
            "text/plain": [
              "13.0"
            ]
          },
          "metadata": {
            "tags": []
          },
          "execution_count": 15
        }
      ]
    },
    {
      "cell_type": "code",
      "metadata": {
        "id": "MhY61vzMgIt1",
        "colab_type": "code",
        "colab": {
          "base_uri": "https://localhost:8080/",
          "height": 34
        },
        "outputId": "ebcd5a2f-96f5-4df9-c7f1-28310281d96b"
      },
      "source": [
        "(define prefix \"hello\")\n",
        "(define suffix \"world\")\n",
        "(define x \" \")\n",
        "(string-append prefix x suffix)"
      ],
      "execution_count": null,
      "outputs": [
        {
          "output_type": "execute_result",
          "data": {
            "text/plain": [
              "\"hello world\""
            ]
          },
          "metadata": {
            "tags": []
          },
          "execution_count": 16
        }
      ]
    },
    {
      "cell_type": "code",
      "metadata": {
        "id": "XvpOWi_ShRPH",
        "colab_type": "code",
        "colab": {
          "base_uri": "https://localhost:8080/",
          "height": 34
        },
        "outputId": "8c3866c3-52de-4e8c-db54-a67441a7a88c"
      },
      "source": [
        "(string-length \"gneignaeigjowgjoeag\")\n",
        "(number->string 7)\n",
        "(substring \"Hello World\" 2 6)\n",
        "(+ (string-length \"gurhfa\") 22)\n",
        "(* (string-length \"sunshine\") 5)\n",
        "(string-ref \"hello world\" 4)"
      ],
      "execution_count": null,
      "outputs": [
        {
          "output_type": "execute_result",
          "data": {
            "text/plain": [
              "#\\o"
            ]
          },
          "metadata": {
            "tags": []
          },
          "execution_count": 17
        }
      ]
    },
    {
      "cell_type": "code",
      "metadata": {
        "id": "DLbtFxFuigvo",
        "colab_type": "code",
        "colab": {
          "base_uri": "https://localhost:8080/",
          "height": 34
        },
        "outputId": "70162ef9-9e8c-4f30-a1cf-0539a480c3b6"
      },
      "source": [
        "(define str \"helloworld\")\n",
        "(define i 5)\n",
        "(define prefix (substring str 0 i))\n",
        "(define suffix (substring str i))\n",
        "(define x \"_\")\n",
        "(string-append prefix x suffix)"
      ],
      "execution_count": null,
      "outputs": [
        {
          "output_type": "execute_result",
          "data": {
            "text/plain": [
              "\"hello_world\""
            ]
          },
          "metadata": {
            "tags": []
          },
          "execution_count": 14
        }
      ]
    },
    {
      "cell_type": "code",
      "metadata": {
        "id": "y3dG6GSIkql1",
        "colab_type": "code",
        "colab": {
          "base_uri": "https://localhost:8080/",
          "height": 34
        },
        "outputId": "d0ad6a4c-0da4-49d8-828a-a3185430cc4a"
      },
      "source": [
        "(define str \"hello_world\")\n",
        "(define i 5)\n",
        "(define prefix (substring str 0 i))\n",
        "(define suffix (substring str (+ i 1)))\n",
        "(string-append prefix suffix)"
      ],
      "execution_count": null,
      "outputs": [
        {
          "output_type": "execute_result",
          "data": {
            "text/plain": [
              "\"helloworld\""
            ]
          },
          "metadata": {
            "tags": []
          },
          "execution_count": 42
        }
      ]
    },
    {
      "cell_type": "code",
      "metadata": {
        "id": "OJ3TpNjelxhk",
        "colab_type": "code",
        "colab": {
          "base_uri": "https://localhost:8080/",
          "height": 34
        },
        "outputId": "16ae9a6f-8245-4d6e-e1f5-982dc65cb7d4"
      },
      "source": [
        "(and #f #t)\n",
        "(or #t #t)\n",
        "(not #f)"
      ],
      "execution_count": null,
      "outputs": [
        {
          "output_type": "execute_result",
          "data": {
            "text/plain": [
              "#t"
            ]
          },
          "metadata": {
            "tags": []
          },
          "execution_count": 53
        }
      ]
    },
    {
      "cell_type": "code",
      "metadata": {
        "id": "JIyO4sX6n_R5",
        "colab_type": "code",
        "colab": {
          "base_uri": "https://localhost:8080/",
          "height": 34
        },
        "outputId": "d96948e5-6b27-47fd-ad55-a4713a035950"
      },
      "source": [
        "(define sunny #t)\n",
        "(define friday #f)\n",
        "(and sunny friday)"
      ],
      "execution_count": null,
      "outputs": [
        {
          "output_type": "execute_result",
          "data": {
            "text/plain": [
              "#f"
            ]
          },
          "metadata": {
            "tags": []
          },
          "execution_count": 13
        }
      ]
    },
    {
      "cell_type": "code",
      "metadata": {
        "id": "YZyR9GcbpIUc",
        "colab_type": "code",
        "colab": {
          "base_uri": "https://localhost:8080/",
          "height": 34
        },
        "outputId": "4bb08faa-3866-4a15-f53b-47089125cad2"
      },
      "source": [
        "(define height 7)\n",
        "(define width 6)\n",
        "(define square \"This is a square\")\n",
        "(define tall \"This is a tall\")\n",
        "(define wide \"This is a wide\")\n",
        "\n",
        "(if (= height width) \n",
        "  square (if (> height width)\n",
        "    tall (if (> width height)\n",
        "      wide\n",
        "    )\n",
        "  )\n",
        ")"
      ],
      "execution_count": null,
      "outputs": [
        {
          "output_type": "execute_result",
          "data": {
            "text/plain": [
              "\"This is a tall\""
            ]
          },
          "metadata": {
            "tags": []
          },
          "execution_count": 48
        }
      ]
    },
    {
      "cell_type": "code",
      "metadata": {
        "id": "4b8A2eY1vx0A",
        "colab_type": "code",
        "colab": {
          "base_uri": "https://localhost:8080/",
          "height": 34
        },
        "outputId": "866ca167-e9e5-4bc5-a94b-e4b608791b7e"
      },
      "source": [
        "(number? 4)\n",
        "(number? #t)\n",
        "(boolean? 1)"
      ],
      "execution_count": null,
      "outputs": [
        {
          "output_type": "execute_result",
          "data": {
            "text/plain": [
              "#f"
            ]
          },
          "metadata": {
            "tags": []
          },
          "execution_count": 95
        }
      ]
    },
    {
      "cell_type": "code",
      "metadata": {
        "id": "htrxttJOzjgn",
        "colab_type": "code",
        "colab": {
          "base_uri": "https://localhost:8080/",
          "height": 34
        },
        "outputId": "ed50ec7d-f3f0-4e66-879f-8d9b59a8526b"
      },
      "source": [
        "(define in 4)\n",
        "\n",
        "(if (string? in)\n",
        "  (string-length in) \n",
        "    (if (boolean? in)\n",
        "      (if (= #t in) \n",
        "        10 \n",
        "        (if (= #f in) \n",
        "          20 \n",
        "        )\n",
        "      )\n",
        "      (if (number? in) (- in 1)\n",
        "    )\n",
        "  )\n",
        ")"
      ],
      "execution_count": 21,
      "outputs": [
        {
          "output_type": "execute_result",
          "data": {
            "text/plain": [
              "3"
            ]
          },
          "metadata": {
            "tags": []
          },
          "execution_count": 21
        }
      ]
    },
    {
      "cell_type": "code",
      "metadata": {
        "id": "8r8uCWGP-BEU",
        "colab_type": "code",
        "colab": {
          "base_uri": "https://localhost:8080/",
          "height": 34
        },
        "outputId": "c9e2f8d3-9c16-4686-80d7-ca180d6f5684"
      },
      "source": [
        "(define (ff x y) \n",
        "(sqrt (+ (* x x) (* y y))))\n",
        "(ff 13 15)"
      ],
      "execution_count": 22,
      "outputs": [
        {
          "output_type": "execute_result",
          "data": {
            "text/plain": [
              "19.849433241279208"
            ]
          },
          "metadata": {
            "tags": []
          },
          "execution_count": 22
        }
      ]
    },
    {
      "cell_type": "code",
      "metadata": {
        "id": "Hb4rNLAsJTWl",
        "colab_type": "code",
        "colab": {
          "base_uri": "https://localhost:8080/",
          "height": 34
        },
        "outputId": "5b554bfd-15c4-41c9-eacf-c50ac49c92da"
      },
      "source": [
        "(define (cvolume x) \n",
        "(* x x x))\n",
        "(cvolume 3)"
      ],
      "execution_count": null,
      "outputs": [
        {
          "output_type": "execute_result",
          "data": {
            "text/plain": [
              "27"
            ]
          },
          "metadata": {
            "tags": []
          },
          "execution_count": 10
        }
      ]
    },
    {
      "cell_type": "code",
      "metadata": {
        "id": "SlXs4L8lKLop",
        "colab_type": "code",
        "colab": {
          "base_uri": "https://localhost:8080/",
          "height": 34
        },
        "outputId": "d2727484-fe5f-4493-997f-844917a46738"
      },
      "source": [
        "(define (csurface x) \n",
        "(* (* x x) 6))\n",
        "(csurface 3)"
      ],
      "execution_count": null,
      "outputs": [
        {
          "output_type": "execute_result",
          "data": {
            "text/plain": [
              "54"
            ]
          },
          "metadata": {
            "tags": []
          },
          "execution_count": 12
        }
      ]
    },
    {
      "cell_type": "code",
      "metadata": {
        "id": "c74XVQVGKqmR",
        "colab_type": "code",
        "colab": {
          "base_uri": "https://localhost:8080/",
          "height": 34
        },
        "outputId": "8e9d9da1-b9ef-442d-db69-9768f606e993"
      },
      "source": [
        "(define (string-first x)\n",
        "(if (> (string-length x) 0)\n",
        "  (substring x 0 1)\n",
        "  #f\n",
        "  )\n",
        ")\n",
        "(string-first \"-\")"
      ],
      "execution_count": 23,
      "outputs": [
        {
          "output_type": "execute_result",
          "data": {
            "text/plain": [
              "\"-\""
            ]
          },
          "metadata": {
            "tags": []
          },
          "execution_count": 23
        }
      ]
    },
    {
      "cell_type": "code",
      "metadata": {
        "id": "9o04ZhF5OpML",
        "colab_type": "code",
        "colab": {
          "base_uri": "https://localhost:8080/",
          "height": 34
        },
        "outputId": "45b355fa-77eb-48c2-c5f5-ed749ce06acc"
      },
      "source": [
        "(define (string-last x)\n",
        "(if (> (string-length x) 0)\n",
        "  (substring x (- (string-length x) 1))\n",
        "  #f\n",
        "  )\n",
        ")\n",
        "(string-last \"asgasdhsdfhrfs\")"
      ],
      "execution_count": 24,
      "outputs": [
        {
          "output_type": "execute_result",
          "data": {
            "text/plain": [
              "\"s\""
            ]
          },
          "metadata": {
            "tags": []
          },
          "execution_count": 24
        }
      ]
    },
    {
      "cell_type": "code",
      "metadata": {
        "id": "F0pgSyMPPPNR",
        "colab_type": "code",
        "colab": {
          "base_uri": "https://localhost:8080/",
          "height": 34
        },
        "outputId": "2bd8fd77-356e-469d-a894-943a4ee181d6"
      },
      "source": [
        "(define (==> sunny friday)\n",
        "(if (= sunny #f)\n",
        "  #t (if (= friday #t)\n",
        "    #t #f)\n",
        "  )\n",
        ")\n",
        "(==> #t #f)"
      ],
      "execution_count": 25,
      "outputs": [
        {
          "output_type": "execute_result",
          "data": {
            "text/plain": [
              "#f"
            ]
          },
          "metadata": {
            "tags": []
          },
          "execution_count": 25
        }
      ]
    },
    {
      "cell_type": "code",
      "metadata": {
        "id": "hDDlRTq8QRYh",
        "colab_type": "code",
        "colab": {
          "base_uri": "https://localhost:8080/",
          "height": 34
        },
        "outputId": "107515a3-b4e4-4095-db19-fac797bf6a5f"
      },
      "source": [
        "(define (image-classify x y)\n",
        "(if (= x y) \n",
        "  \"square\" (if (> x y)\n",
        "    \"tall\" (if (> y x)\n",
        "      \"wide\"\n",
        "    )\n",
        "  )\n",
        ")\n",
        ")\n",
        "(image-classify 6 3)"
      ],
      "execution_count": 26,
      "outputs": [
        {
          "output_type": "execute_result",
          "data": {
            "text/plain": [
              "\"tall\""
            ]
          },
          "metadata": {
            "tags": []
          },
          "execution_count": 26
        }
      ]
    },
    {
      "cell_type": "code",
      "metadata": {
        "id": "Qr_6rUvCRJLd",
        "colab_type": "code",
        "colab": {
          "base_uri": "https://localhost:8080/",
          "height": 34
        },
        "outputId": "a3f39346-00c4-4091-b52c-c5300045491c"
      },
      "source": [
        "(define (string-join x y)\n",
        "(string-append x \"_\" y)\n",
        ")\n",
        "(string-join \"hello\" \"world\")"
      ],
      "execution_count": 27,
      "outputs": [
        {
          "output_type": "execute_result",
          "data": {
            "text/plain": [
              "\"hello_world\""
            ]
          },
          "metadata": {
            "tags": []
          },
          "execution_count": 27
        }
      ]
    },
    {
      "cell_type": "code",
      "metadata": {
        "id": "GgZ0ls6RRyJG",
        "colab_type": "code",
        "colab": {
          "base_uri": "https://localhost:8080/",
          "height": 34
        },
        "outputId": "961d708e-53df-4fd9-da01-62cd807f36cd"
      },
      "source": [
        "(define (string-insert x y)\n",
        "(if (>= (string-length x) y)\n",
        "  (let \n",
        "    ((prefix (substring x 0 y)) (suffix (substring x y)))\n",
        "    (string-append prefix \"_\" suffix)\n",
        "  ) #f\n",
        ")\n",
        ")\n",
        "(string-insert \"helloworld\" 5)"
      ],
      "execution_count": 28,
      "outputs": [
        {
          "output_type": "execute_result",
          "data": {
            "text/plain": [
              "\"hello_world\""
            ]
          },
          "metadata": {
            "tags": []
          },
          "execution_count": 28
        }
      ]
    },
    {
      "cell_type": "code",
      "metadata": {
        "id": "b9EtozZNYV-U",
        "colab_type": "code",
        "colab": {
          "base_uri": "https://localhost:8080/",
          "height": 136
        },
        "outputId": "f80e6139-4def-4866-853a-d1215aacaf87"
      },
      "source": [
        "(define (string-delete x y)\n",
        "(if (>= (string-length x) y)\n",
        "  (let \n",
        "    ((prefix (substring x 0 y)) \n",
        "    (substring x (+ y 1))\n",
        "    )\n",
        "    (string-append prefix suffix)\n",
        "  ) #f\n",
        ")\n",
        ")\n",
        "(string-delete \"hello world\" 5)"
      ],
      "execution_count": 29,
      "outputs": [
        {
          "output_type": "stream",
          "text": [
            "\u001b[0;31m\n",
            "Traceback (most recent call last):\n",
            "  File \"In [29]\", line 11, col 1, in 'string-delete'\n",
            "  File \"In [29]\", line 3, col 3, in 'let'\n",
            "  File \"In [29]\", line 7, col 27\n",
            "RunTimeError: unbound variable 'suffix'\n",
            "\n",
            "\u001b[0m"
          ],
          "name": "stderr"
        }
      ]
    },
    {
      "cell_type": "code",
      "metadata": {
        "id": "uQrr_W9_Pjcz",
        "colab_type": "code",
        "colab": {}
      },
      "source": [
        "(define read-file (python-eval \"lambda fn: open(fn, 'r').read()\"))\n",
        "(define write-file (python-eval \"lambda fn, data: open(fn, 'w').write(data)\"))"
      ],
      "execution_count": 30,
      "outputs": []
    },
    {
      "cell_type": "code",
      "metadata": {
        "id": "vf9k7f2OPlBN",
        "colab_type": "code",
        "colab": {
          "base_uri": "https://localhost:8080/",
          "height": 34
        },
        "outputId": "bf5e7e93-9074-47f5-c995-cc71151481b3"
      },
      "source": [
        "(define (C f)\n",
        "  (* 5/9 (- f 32)))\n",
        "(C -30)"
      ],
      "execution_count": 31,
      "outputs": [
        {
          "output_type": "execute_result",
          "data": {
            "text/plain": [
              "-310/9"
            ]
          },
          "metadata": {
            "tags": []
          },
          "execution_count": 31
        }
      ]
    },
    {
      "cell_type": "code",
      "metadata": {
        "id": "I6_yZQ4ZRYJe",
        "colab_type": "code",
        "colab": {}
      },
      "source": [
        "(define (convert in out)\n",
        "  (write-file out\n",
        "    (string-append\n",
        "      (number->string\n",
        "        (C\n",
        "          (string->number\n",
        "            (read-file in))))\n",
        "      \"\\n\")))"
      ],
      "execution_count": null,
      "outputs": []
    },
    {
      "cell_type": "code",
      "metadata": {
        "id": "6msErSoGTI1p",
        "colab_type": "code",
        "colab": {
          "base_uri": "https://localhost:8080/",
          "height": 34
        },
        "outputId": "f1959af9-1d0b-4159-b7c6-b315b0009178"
      },
      "source": [
        "(write-file \"sample.dat\" \"212\")\n",
        "(write-file \"out.dat\" \"\")\n",
        "\n",
        "(convert \"sample.dat\" \"out.dat\")\n",
        "(read-file \"out.dat\")"
      ],
      "execution_count": null,
      "outputs": [
        {
          "output_type": "execute_result",
          "data": {
            "text/plain": [
              "\"100\\n\""
            ]
          },
          "metadata": {
            "tags": []
          },
          "execution_count": 32
        }
      ]
    },
    {
      "cell_type": "code",
      "metadata": {
        "id": "qT7xDnCVUMJ7",
        "colab_type": "code",
        "colab": {}
      },
      "source": [
        "(define (letter fst lst signature-name)\n",
        "  (string-append\n",
        "    (opening fst)\n",
        "    \"\\n\\n\"\n",
        "    (body fst lst)\n",
        "    \"\\n\\n\"\n",
        "    (closing signature-name)))\n",
        " \n",
        "(define (opening fst)\n",
        "  (string-append \"Dear \" fst \",\"))\n",
        " \n",
        "(define (body fst lst)\n",
        "  (string-append\n",
        "   \"We have discovered that all people with the\" \"\\n\"\n",
        "   \"last name \" lst \" have won our lottery. So, \" \"\\n\"\n",
        "   fst \", \" \"hurry and pick up your prize.\"))\n",
        " \n",
        "(define (closing signature-name)\n",
        "  (string-append\n",
        "   \"Sincerely,\"\n",
        "   \"\\n\\n\"\n",
        "   signature-name\n",
        "   \"\\n\"))"
      ],
      "execution_count": null,
      "outputs": []
    },
    {
      "cell_type": "code",
      "metadata": {
        "id": "XFck_0gtURLY",
        "colab_type": "code",
        "colab": {
          "base_uri": "https://localhost:8080/",
          "height": 187
        },
        "outputId": "9f5c6013-fd0b-4af2-fd2c-70d5ce58e2f1"
      },
      "source": [
        "(print (letter \"Mike\" \"Ross\" \"Spencer\"))"
      ],
      "execution_count": null,
      "outputs": [
        {
          "output_type": "stream",
          "text": [
            "\"Dear Mike,\n",
            "\n",
            "We have discovered that all people with the\n",
            "last name Ross have won our lottery. So, \n",
            "Mike, hurry and pick up your prize.\n",
            "\n",
            "Sincerely,\n",
            "\n",
            "Spencer\n",
            "\"\n"
          ],
          "name": "stdout"
        }
      ]
    },
    {
      "cell_type": "code",
      "metadata": {
        "id": "DmQlUzIFVMB_",
        "colab_type": "code",
        "colab": {}
      },
      "source": [
        "(define (main in-fst in-lst in-signature out)\n",
        "  (write-file out\n",
        "              (letter (read-file in-fst)\n",
        "                      (read-file in-lst)\n",
        "                      (read-file in-signature))))"
      ],
      "execution_count": null,
      "outputs": []
    },
    {
      "cell_type": "code",
      "metadata": {
        "id": "mlcIhJNNVRAh",
        "colab_type": "code",
        "colab": {
          "base_uri": "https://localhost:8080/",
          "height": 34
        },
        "outputId": "699b12ab-71a2-4f81-93ef-e721fd5089a7"
      },
      "source": [
        "(write-file \"in-fst\" \"Mike\")\n",
        "(write-file \"in-lst\" \"Ross\")\n",
        "(write-file \"in-signature\" \"Spencer\")\n",
        "\n",
        "(main \"in-fst\" \"in-lst\" \"in-signature\" \"out\")"
      ],
      "execution_count": null,
      "outputs": [
        {
          "output_type": "execute_result",
          "data": {
            "text/plain": [
              "155"
            ]
          },
          "metadata": {
            "tags": []
          },
          "execution_count": 40
        }
      ]
    },
    {
      "cell_type": "code",
      "metadata": {
        "id": "fcuiNTDqVmh3",
        "colab_type": "code",
        "colab": {
          "base_uri": "https://localhost:8080/",
          "height": 187
        },
        "outputId": "8566bc3e-ba75-4043-a9b8-5e163288d186"
      },
      "source": [
        "(print (read-file \"out\"))"
      ],
      "execution_count": null,
      "outputs": [
        {
          "output_type": "stream",
          "text": [
            "\"Dear Mike,\n",
            "\n",
            "We have discovered that all people with the\n",
            "last name Ross have won our lottery. So, \n",
            "Mike, hurry and pick up your prize.\n",
            "\n",
            "Sincerely,\n",
            "\n",
            "Spencer\n",
            "\"\n"
          ],
          "name": "stdout"
        }
      ]
    },
    {
      "cell_type": "code",
      "metadata": {
        "id": "yti1ObLmG_MQ",
        "colab_type": "code",
        "colab": {}
      },
      "source": [
        "(define-syntax -concat-name\n",
        "  [(-concat-name ?a ?b) (string->symbol (string-append (symbol->string '?a) (symbol->string '?b)))]\n",
        ")\n",
        "\n",
        "(define-syntax -symbol-alist\n",
        "  [(-symbol-alist ?n ?a . ?b) (cons (list '?a ?n) (-symbol-alist (+ ?n 1) . ?b))]\n",
        "  [(-symbol-alist ?n) '()])\n",
        "\n",
        "(define (-define-propgetx struct prop index)\n",
        "  (let* [\n",
        "    (symbol-append (lambda (parts) (string->symbol (apply string-append parts))))\n",
        "    (structname (symbol->string struct))\n",
        "    (propname (symbol->string prop))\n",
        "    (struct? (symbol-append (list structname \"?\")))\n",
        "    (struct-prop (symbol-append (list structname \"-\" propname)))\n",
        "  ]\n",
        "  (list 'define (list struct-prop 'x)\n",
        "    (list 'if (list struct? 'x)\n",
        "      (list 'list-ref 'x index)\n",
        "      (list 'error (symbol->string struct-prop) \"expects ~a, given ~a\" structname 'x)\n",
        "    )\n",
        "  ))\n",
        ")\n",
        "\n",
        "(define-syntax define-struct\n",
        "  [(define-struct ?name ?props) (begin\n",
        "     (eval (list 'define (-concat-name make- ?name) '(lambda ?props (list '?name . ?props))))\n",
        "     (eval (list 'define (-concat-name ?name ?) '(lambda (x) (and (pair? x) (eq? (car x) '?name) (= (length '?props) (length (cdr x)))))))\n",
        "     (for-each (lambda (p)\n",
        "       (eval (apply (lambda (prop x) (-define-propgetx '?name prop x)) p))\n",
        "     ) (-symbol-alist 1 . ?props))\n",
        "  )]\n",
        ")\n",
        "\n",
        "(define-struct posn [x y])\n",
        "\n",
        "(define (sqr x)\n",
        "  (* x x )\n",
        ")"
      ],
      "execution_count": 1,
      "outputs": []
    },
    {
      "cell_type": "code",
      "metadata": {
        "id": "15CwPRAAHMas",
        "colab_type": "code",
        "colab": {
          "base_uri": "https://localhost:8080/",
          "height": 34
        },
        "outputId": "e01519b1-6392-433c-cedd-5979b481a4a2"
      },
      "source": [
        "(define p (make-posn 31 26))\n",
        "(posn-x p)\n",
        "(posn-y p)"
      ],
      "execution_count": null,
      "outputs": [
        {
          "output_type": "execute_result",
          "data": {
            "text/plain": [
              "26"
            ]
          },
          "metadata": {
            "tags": []
          },
          "execution_count": 3
        }
      ]
    },
    {
      "cell_type": "code",
      "metadata": {
        "id": "f15dqJaAPhxT",
        "colab_type": "code",
        "colab": {
          "base_uri": "https://localhost:8080/",
          "height": 34
        },
        "outputId": "e5d3024e-8a65-4773-f404-2049fde1654a"
      },
      "source": [
        "(define (distance-to-0 ap)\n",
        "  (sqrt\n",
        "    (+ (sqr (posn-x ap))\n",
        "       (sqr (posn-y ap)))))\n",
        "\n",
        "(distance-to-0 (make-posn 3 4))"
      ],
      "execution_count": null,
      "outputs": [
        {
          "output_type": "execute_result",
          "data": {
            "text/plain": [
              "5.0"
            ]
          },
          "metadata": {
            "tags": []
          },
          "execution_count": 4
        }
      ]
    },
    {
      "cell_type": "code",
      "metadata": {
        "id": "VqacI21aX6lS",
        "colab_type": "code",
        "colab": {
          "base_uri": "https://localhost:8080/",
          "height": 34
        },
        "outputId": "b147dcd0-121a-45bf-ac06-d47080045813"
      },
      "source": [
        "(define (manhattan-distance ap)\n",
        "  (+\n",
        "    (+ (posn-x ap)\n",
        "       (posn-y ap)\n",
        "    )\n",
        "  )\n",
        ")\n",
        "\n",
        "(manhattan-distance (make-posn 3 4))"
      ],
      "execution_count": null,
      "outputs": [
        {
          "output_type": "execute_result",
          "data": {
            "text/plain": [
              "7"
            ]
          },
          "metadata": {
            "tags": []
          },
          "execution_count": 4
        }
      ]
    },
    {
      "cell_type": "code",
      "metadata": {
        "id": "zciyM94tpFZP",
        "colab_type": "code",
        "colab": {}
      },
      "source": [
        "(define-struct vel [deltax deltay])"
      ],
      "execution_count": 2,
      "outputs": []
    },
    {
      "cell_type": "code",
      "metadata": {
        "id": "DbjUqzuVoWYj",
        "colab_type": "code",
        "colab": {
          "base_uri": "https://localhost:8080/",
          "height": 34
        },
        "outputId": "9df3dee7-7c76-4896-ccea-6909a4d5c46a"
      },
      "source": [
        "(define (posn+ p v)\n",
        "  (make-posn\n",
        "    (+ (posn-x p)\n",
        "      (vel-deltax v)   \n",
        "    )\n",
        "    (+ (posn-y p)\n",
        "      (vel-deltay v)\n",
        "    )\n",
        "  )\n",
        ")\n",
        "\n",
        "(posn+ (make-posn 3 4) (make-vel 2 -5))"
      ],
      "execution_count": null,
      "outputs": [
        {
          "output_type": "execute_result",
          "data": {
            "text/plain": [
              "(posn 5 -1)"
            ]
          },
          "metadata": {
            "tags": []
          },
          "execution_count": 20
        }
      ]
    },
    {
      "cell_type": "code",
      "metadata": {
        "id": "znU0WGXG1PJL",
        "colab_type": "code",
        "colab": {
          "base_uri": "https://localhost:8080/",
          "height": 34
        },
        "outputId": "f540dcef-0904-4588-ed86-6acbe7e1340e"
      },
      "source": [
        "(define (vel* v n)\n",
        "  (make-vel\n",
        "    (* (vel-deltax v) \n",
        "    n)\n",
        "    (* (vel-deltay v)\n",
        "    n)\n",
        "  )\n",
        ")\n",
        "\n",
        "(vel* (make-vel 4 6) 2)"
      ],
      "execution_count": null,
      "outputs": [
        {
          "output_type": "execute_result",
          "data": {
            "text/plain": [
              "(vel 8 12)"
            ]
          },
          "metadata": {
            "tags": []
          },
          "execution_count": 21
        }
      ]
    },
    {
      "cell_type": "code",
      "metadata": {
        "id": "HwK7-fuG4vGW",
        "colab_type": "code",
        "colab": {
          "base_uri": "https://localhost:8080/",
          "height": 34
        },
        "outputId": "6f06b85e-a8fc-4e8e-b5b9-213fdc4b8c9d"
      },
      "source": [
        "(define (vel+ v1 v2)\n",
        "  (make-vel\n",
        "  (+ (vel-deltax v1)\n",
        "  (vel-deltax v2)) \n",
        "  (+ (vel-deltay v1)\n",
        "  (vel-deltay v2))\n",
        "  )\n",
        ")\n",
        "\n",
        "(vel+ (make-vel 2 5) (make-vel 7 3))"
      ],
      "execution_count": null,
      "outputs": [
        {
          "output_type": "execute_result",
          "data": {
            "text/plain": [
              "(vel 9 8)"
            ]
          },
          "metadata": {
            "tags": []
          },
          "execution_count": 6
        }
      ]
    },
    {
      "cell_type": "code",
      "metadata": {
        "id": "RCTiWnxFU1kq",
        "colab_type": "code",
        "colab": {}
      },
      "source": [
        "(define-struct Car [engineStatus carDoor mileage fuelStatus])\n",
        "(define-struct FuelStatus [maxFuel currentFuel fuelUsed])\n",
        "\n",
        "(define (carControl fuelCapacity)\n",
        "  (make-Car #f #t 2500\n",
        "    (make-FuelStatus fuelCapacity (/ fuelCapacity 2) 50)\n",
        "  )\n",
        ")\n",
        "\n",
        "(define (carControlTest fuelCapacity)\n",
        "  (make-Car #t #t 2500\n",
        "    (make-FuelStatus fuelCapacity (/ fuelCapacity 2) 50)\n",
        "  )\n",
        ")\n",
        "\n",
        "(define vehicle (carControl 250))\n",
        "(define vehicle-driveTest (carControlTest 60))"
      ],
      "execution_count": 35,
      "outputs": []
    },
    {
      "cell_type": "code",
      "metadata": {
        "id": "o03ZWHqeBAqY",
        "colab_type": "code",
        "colab": {
          "base_uri": "https://localhost:8080/",
          "height": 34
        },
        "outputId": "1a1ecca3-30f3-4f4c-f548-c65220494420"
      },
      "source": [
        "(define (Car-fuelCapacity vehicle)\n",
        "  (FuelStatus-maxFuel \n",
        "    (Car-fuelStatus vehicle)\n",
        "  )\n",
        ")\n",
        "\n",
        "(Car-fuelCapacity vehicle)"
      ],
      "execution_count": 13,
      "outputs": [
        {
          "output_type": "execute_result",
          "data": {
            "text/plain": [
              "250"
            ]
          },
          "metadata": {
            "tags": []
          },
          "execution_count": 13
        }
      ]
    },
    {
      "cell_type": "code",
      "metadata": {
        "id": "wjBP_I8SQDz3",
        "colab_type": "code",
        "colab": {
          "base_uri": "https://localhost:8080/",
          "height": 34
        },
        "outputId": "830732a7-d319-48e5-a8e7-3b344606896a"
      },
      "source": [
        "(define (Car-currentFuel vehicle) \n",
        "  (FuelStatus-currentFuel \n",
        "    (Car-fuelStatus vehicle)\n",
        "  )\n",
        ")\n",
        "\n",
        "(Car-currentFuel vehicle)"
      ],
      "execution_count": 3,
      "outputs": [
        {
          "output_type": "execute_result",
          "data": {
            "text/plain": [
              "125"
            ]
          },
          "metadata": {
            "tags": []
          },
          "execution_count": 3
        }
      ]
    },
    {
      "cell_type": "code",
      "metadata": {
        "id": "Fivf160aAdy1",
        "colab_type": "code",
        "colab": {
          "base_uri": "https://localhost:8080/",
          "height": 34
        },
        "outputId": "527f45a8-299d-4057-fcb8-4e4a08b96b05"
      },
      "source": [
        "(define (Car-fuelUsed vehicle)\n",
        "  (FuelStatus-fuelUsed \n",
        "    (Car-fuelStatus vehicle)\n",
        "  )\n",
        ")\n",
        "\n",
        "(Car-fuelUsed vehicle)"
      ],
      "execution_count": 12,
      "outputs": [
        {
          "output_type": "execute_result",
          "data": {
            "text/plain": [
              "0"
            ]
          },
          "metadata": {
            "tags": []
          },
          "execution_count": 12
        }
      ]
    },
    {
      "cell_type": "code",
      "metadata": {
        "id": "nv0_cuEcTz_h",
        "colab_type": "code",
        "colab": {
          "base_uri": "https://localhost:8080/",
          "height": 34
        },
        "outputId": "cb2fbd0c-ada4-4507-9b11-794ef0288378"
      },
      "source": [
        "(define (Car-mpg vehicle)\n",
        "  (/ (Car-mileage vehicle) (Car-fuelUsed vehicle))\n",
        ")\n",
        "\n",
        "(Car-mpg vehicle-mileageTest)"
      ],
      "execution_count": 19,
      "outputs": [
        {
          "output_type": "execute_result",
          "data": {
            "text/plain": [
              "50"
            ]
          },
          "metadata": {
            "tags": []
          },
          "execution_count": 19
        }
      ]
    },
    {
      "cell_type": "code",
      "metadata": {
        "id": "GPX8ZGctX7RN",
        "colab_type": "code",
        "colab": {
          "base_uri": "https://localhost:8080/",
          "height": 34
        },
        "outputId": "12af66cb-0019-41d2-cc07-84bcd3c445ad"
      },
      "source": [
        "(define (Car-addFuel vehicle addedFuel)\n",
        "  (make-Car (Car-engineStatus vehicle) (Car-carDoor vehicle) (Car-mileage vehicle)\n",
        "    (FuelStatus-addFuel (Car-fuelStatus vehicle) addedFuel)\n",
        "  )\n",
        ")\n",
        "\n",
        "(Car-addFuel vehicle 25)"
      ],
      "execution_count": 8,
      "outputs": [
        {
          "output_type": "execute_result",
          "data": {
            "text/plain": [
              "(Car #f #t 0 (FuelStatus 250 150 0))"
            ]
          },
          "metadata": {
            "tags": []
          },
          "execution_count": 8
        }
      ]
    },
    {
      "cell_type": "code",
      "metadata": {
        "id": "LS-5DyU32UKX",
        "colab_type": "code",
        "colab": {}
      },
      "source": [
        "(define (Car-doorControl vehicle doorStatus)\n",
        "  (make-Car (Car-engineStatus vehicle) doorStatus (Car-mileage vehicle) (Car-fuelStatus vehicle)\n",
        "  )\n",
        ")\n",
        "\n",
        "(define vehicle-doorclosed (Car-doorControl vehicle #f))"
      ],
      "execution_count": 41,
      "outputs": []
    },
    {
      "cell_type": "code",
      "metadata": {
        "id": "D3OeVHexsaGV",
        "colab_type": "code",
        "colab": {}
      },
      "source": [
        "(define (Car-engineControl vehicle engineStatus)\n",
        "  (make-Car engineStatus (Car-carDoor vehicle) (Car-mileage vehicle) (Car-fuelStatus vehicle)\n",
        "  )\n",
        ")\n",
        "\n",
        "(define vehicle-engineon (Car-engineControl vehicle-doorclosed #t))"
      ],
      "execution_count": 42,
      "outputs": []
    },
    {
      "cell_type": "code",
      "metadata": {
        "id": "8-AXICAmFNZK",
        "colab_type": "code",
        "colab": {
          "base_uri": "https://localhost:8080/",
          "height": 34
        },
        "outputId": "5f791187-affd-46d1-90b0-ec3e2d381a5c"
      },
      "source": [
        "(define (FuelStatus-addFuel vehicle amount)\n",
        "  (make-FuelStatus (FuelStatus-maxFuel vehicle) \n",
        "    (+ (FuelStatus-currentFuel vehicle) amount)\n",
        "  (FuelStatus-fuelUsed vehicle)\n",
        "  )\n",
        ")\n",
        "\n",
        "(FuelStatus-addFuel (Car-fuelStatus vehicle) 26)"
      ],
      "execution_count": 5,
      "outputs": [
        {
          "output_type": "execute_result",
          "data": {
            "text/plain": [
              "(FuelStatus 250 151 0)"
            ]
          },
          "metadata": {
            "tags": []
          },
          "execution_count": 5
        }
      ]
    },
    {
      "cell_type": "code",
      "metadata": {
        "id": "-me-TQrIIFuo",
        "colab_type": "code",
        "colab": {
          "base_uri": "https://localhost:8080/",
          "height": 34
        },
        "outputId": "c7bff706-bdad-4c24-8316-43d3c568ee32"
      },
      "source": [
        "(define (FuelStatus-trackUsed vehicle amount)\n",
        "  (make-FuelStatus (FuelStatus-maxFuel vehicle) (FuelStatus-currentFuel vehicle)\n",
        "    (+ (FuelStatus-fuelUsed vehicle) amount)\n",
        "  )\n",
        ")\n",
        "\n",
        "(FuelStatus-trackUsed (Car-fuelStatus vehicle) 72)"
      ],
      "execution_count": 6,
      "outputs": [
        {
          "output_type": "execute_result",
          "data": {
            "text/plain": [
              "(FuelStatus 250 125 72)"
            ]
          },
          "metadata": {
            "tags": []
          },
          "execution_count": 6
        }
      ]
    },
    {
      "cell_type": "code",
      "metadata": {
        "id": "Hu0Xu9n1KXcc",
        "colab_type": "code",
        "colab": {
          "base_uri": "https://localhost:8080/",
          "height": 34
        },
        "outputId": "2a2174ab-48f3-47e3-8fe3-352110315cab"
      },
      "source": [
        "(define (FuelStatus-setCapacity vehicle amount)\n",
        "  (make-FuelStatus amount (FuelStatus-currentFuel vehicle) (FuelStatus-fuelUsed vehicle)\n",
        "  )\n",
        ")\n",
        "\n",
        "(FuelStatus-setCapacity (Car-fuelStatus vehicle) 350)"
      ],
      "execution_count": 7,
      "outputs": [
        {
          "output_type": "execute_result",
          "data": {
            "text/plain": [
              "(FuelStatus 350 125 0)"
            ]
          },
          "metadata": {
            "tags": []
          },
          "execution_count": 7
        }
      ]
    },
    {
      "cell_type": "code",
      "metadata": {
        "id": "0z86owScymNT",
        "colab_type": "code",
        "colab": {
          "base_uri": "https://localhost:8080/",
          "height": 34
        },
        "outputId": "d6320be5-a4c9-4505-9a26-21d901e1ab7c"
      },
      "source": [
        "(define (CarStatus-driveReady vehicle)\n",
        "  (and (Car-engineStatus vehicle) (Car-carDoor vehicle) (> (Car-currentFuel vehicle) 0))\n",
        ")\n",
        "\n",
        "(CarStatus-driveReady vehicle-doorclosed)"
      ],
      "execution_count": 43,
      "outputs": [
        {
          "output_type": "execute_result",
          "data": {
            "text/plain": [
              "#f"
            ]
          },
          "metadata": {
            "tags": []
          },
          "execution_count": 43
        }
      ]
    },
    {
      "cell_type": "code",
      "metadata": {
        "id": "JBDJ9DUe6EE-",
        "colab_type": "code",
        "colab": {
          "base_uri": "https://localhost:8080/",
          "height": 34
        },
        "outputId": "44d21e38-47ba-4dbf-fef3-8e12a7d90351"
      },
      "source": [
        "(define (CarStatus-milesToEmpty vehicle)\n",
        "  (* (Car-currentFuel vehicle)\n",
        "    (/ (Car-mileage vehicle) (Car-fuelUsed vehicle))\n",
        "  )\n",
        ")\n",
        "\n",
        "(CarStatus-milesToEmpty vehicle-mileageTest)"
      ],
      "execution_count": 17,
      "outputs": [
        {
          "output_type": "execute_result",
          "data": {
            "text/plain": [
              "6250"
            ]
          },
          "metadata": {
            "tags": []
          },
          "execution_count": 17
        }
      ]
    },
    {
      "cell_type": "code",
      "metadata": {
        "id": "bTrcHWLqUxVV",
        "colab_type": "code",
        "colab": {
          "base_uri": "https://localhost:8080/",
          "height": 34
        },
        "outputId": "fd9f093d-7b6c-4572-cf7e-9554efccadbf"
      },
      "source": [
        "(define (Car-drive vehicle distance mpg)\n",
        "  (if [and (CarStatus-driveReady vehicle) (>= (* mpg (Car-currentFuel vehicle)) distance)]\n",
        "    (make-Car (Car-engineStatus vehicle) (Car-carDoor vehicle) (Car-driveMileage vehicle distance)\n",
        "      (make-FuelStatus (Car-fuelCapacity vehicle) (FuelStatus-driveNewTotal vehicle distance mpg) (FuelStatus-driveNewUsed vehicle distance mpg))\n",
        "    )\n",
        "  )\n",
        ")\n",
        "\n",
        "(Car-drive vehicle-driveTest 250 50)"
      ],
      "execution_count": 62,
      "outputs": [
        {
          "output_type": "execute_result",
          "data": {
            "text/plain": [
              "(Car #t #t 2750 (FuelStatus 60 25 55))"
            ]
          },
          "metadata": {
            "tags": []
          },
          "execution_count": 62
        }
      ]
    },
    {
      "cell_type": "code",
      "metadata": {
        "id": "JLC9zSwHb-lq",
        "colab_type": "code",
        "colab": {
          "base_uri": "https://localhost:8080/",
          "height": 34
        },
        "outputId": "3829cf06-cddb-49d1-8516-07620a69d159"
      },
      "source": [
        "(define (Car-driveMileage vehicle distance)\n",
        "  ( + (Car-mileage vehicle) distance)\n",
        ")\n",
        "\n",
        "(Car-driveMileage vehicle 20)"
      ],
      "execution_count": 47,
      "outputs": [
        {
          "output_type": "execute_result",
          "data": {
            "text/plain": [
              "2520"
            ]
          },
          "metadata": {
            "tags": []
          },
          "execution_count": 47
        }
      ]
    },
    {
      "cell_type": "code",
      "metadata": {
        "id": "qCQ80Dnuganq",
        "colab_type": "code",
        "colab": {
          "base_uri": "https://localhost:8080/",
          "height": 34
        },
        "outputId": "f0912870-f958-4767-af71-70ff08c6ab71"
      },
      "source": [
        "(define (FuelStatus-driveFuelUsed distance mpg)\n",
        "  (/ distance mpg)\n",
        ")\n",
        "\n",
        "(FuelStatus-driveFuelUsed 2500 50)"
      ],
      "execution_count": 34,
      "outputs": [
        {
          "output_type": "execute_result",
          "data": {
            "text/plain": [
              "50"
            ]
          },
          "metadata": {
            "tags": []
          },
          "execution_count": 34
        }
      ]
    },
    {
      "cell_type": "code",
      "metadata": {
        "id": "8R1s4tgqhcfn",
        "colab_type": "code",
        "colab": {}
      },
      "source": [
        "(define (FuelStatus-driveNewTotal vehicle distance mpg)\n",
        "  (- (Car-currentFuel vehicle) (FuelStatus-driveFuelUsed distance mpg))\n",
        ")"
      ],
      "execution_count": 51,
      "outputs": []
    },
    {
      "cell_type": "code",
      "metadata": {
        "id": "SEIVlYlPjFcG",
        "colab_type": "code",
        "colab": {}
      },
      "source": [
        "(define (FuelStatus-driveNewUsed vehicle distance mpg)\n",
        "  (+ (Car-fuelUsed vehicle) (FuelStatus-driveFuelUsed distance mpg))\n",
        ")"
      ],
      "execution_count": 50,
      "outputs": []
    },
    {
      "cell_type": "code",
      "metadata": {
        "id": "BZ5Wix2WcwSx",
        "colab_type": "code",
        "colab": {}
      },
      "source": [
        "(define-struct Car [engineStatus carDoor mileage fuelStatus])\n",
        "(define-struct FuelStatus [maxFuel currentFuel fuelUsed])"
      ],
      "execution_count": null,
      "outputs": []
    }
  ]
}