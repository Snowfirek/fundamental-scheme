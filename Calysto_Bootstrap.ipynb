{
  "nbformat": 4,
  "nbformat_minor": 0,
  "metadata": {
    "kernelspec": {
      "display_name": "Calysto Scheme (Python)",
      "language": "scheme",
      "name": "calysto_scheme"
    },
    "language_info": {
      "codemirror_mode": {
        "name": "scheme"
      },
      "mimetype": "text/x-scheme",
      "name": "scheme",
      "pygments_lexer": "scheme"
    },
    "colab": {
      "name": "Calysto_Bootstrap.ipynb",
      "provenance": [],
      "include_colab_link": true
    }
  },
  "cells": [
    {
      "cell_type": "markdown",
      "metadata": {
        "id": "view-in-github",
        "colab_type": "text"
      },
      "source": [
        "<a href=\"https://colab.research.google.com/github/Snowfirek/fundamental-scheme/blob/master/Calysto_Bootstrap.ipynb\" target=\"_parent\"><img src=\"https://colab.research.google.com/assets/colab-badge.svg\" alt=\"Open In Colab\"/></a>"
      ]
    },
    {
      "cell_type": "code",
      "metadata": {
        "id": "0uDbVUswWC0f",
        "colab_type": "code",
        "colab": {
          "base_uri": "https://localhost:8080/",
          "height": 697
        },
        "outputId": "5f6003be-1776-4ecc-c0dd-d0beed20bb68"
      },
      "source": [
        "!pip3 install --upgrade calysto-scheme --user\n",
        "!python3 -m calysto_scheme install --user"
      ],
      "execution_count": 2,
      "outputs": [
        {
          "output_type": "stream",
          "text": [
            "Collecting calysto-scheme\n",
            "\u001b[?25l  Downloading https://files.pythonhosted.org/packages/e3/fe/a899c9f10b1b78ab6587a5692569f88727584ebeecd4bc177691823464cd/calysto_scheme-1.4.6-py2.py3-none-any.whl (313kB)\n",
            "\r\u001b[K     |█                               | 10kB 15.7MB/s eta 0:00:01\r\u001b[K     |██                              | 20kB 1.8MB/s eta 0:00:01\r\u001b[K     |███▏                            | 30kB 2.3MB/s eta 0:00:01\r\u001b[K     |████▏                           | 40kB 2.6MB/s eta 0:00:01\r\u001b[K     |█████▎                          | 51kB 2.0MB/s eta 0:00:01\r\u001b[K     |██████▎                         | 61kB 2.3MB/s eta 0:00:01\r\u001b[K     |███████▎                        | 71kB 2.6MB/s eta 0:00:01\r\u001b[K     |████████▍                       | 81kB 2.8MB/s eta 0:00:01\r\u001b[K     |█████████▍                      | 92kB 2.9MB/s eta 0:00:01\r\u001b[K     |██████████▌                     | 102kB 2.8MB/s eta 0:00:01\r\u001b[K     |███████████▌                    | 112kB 2.8MB/s eta 0:00:01\r\u001b[K     |████████████▌                   | 122kB 2.8MB/s eta 0:00:01\r\u001b[K     |█████████████▋                  | 133kB 2.8MB/s eta 0:00:01\r\u001b[K     |██████████████▋                 | 143kB 2.8MB/s eta 0:00:01\r\u001b[K     |███████████████▊                | 153kB 2.8MB/s eta 0:00:01\r\u001b[K     |████████████████▊               | 163kB 2.8MB/s eta 0:00:01\r\u001b[K     |█████████████████▊              | 174kB 2.8MB/s eta 0:00:01\r\u001b[K     |██████████████████▉             | 184kB 2.8MB/s eta 0:00:01\r\u001b[K     |███████████████████▉            | 194kB 2.8MB/s eta 0:00:01\r\u001b[K     |█████████████████████           | 204kB 2.8MB/s eta 0:00:01\r\u001b[K     |██████████████████████          | 215kB 2.8MB/s eta 0:00:01\r\u001b[K     |███████████████████████         | 225kB 2.8MB/s eta 0:00:01\r\u001b[K     |████████████████████████        | 235kB 2.8MB/s eta 0:00:01\r\u001b[K     |█████████████████████████       | 245kB 2.8MB/s eta 0:00:01\r\u001b[K     |██████████████████████████▏     | 256kB 2.8MB/s eta 0:00:01\r\u001b[K     |███████████████████████████▏    | 266kB 2.8MB/s eta 0:00:01\r\u001b[K     |████████████████████████████▎   | 276kB 2.8MB/s eta 0:00:01\r\u001b[K     |█████████████████████████████▎  | 286kB 2.8MB/s eta 0:00:01\r\u001b[K     |██████████████████████████████▎ | 296kB 2.8MB/s eta 0:00:01\r\u001b[K     |███████████████████████████████▍| 307kB 2.8MB/s eta 0:00:01\r\u001b[K     |████████████████████████████████| 317kB 2.8MB/s \n",
            "\u001b[?25hCollecting metakernel\n",
            "\u001b[?25l  Downloading https://files.pythonhosted.org/packages/f6/14/f0020ab2b2861593e94a62a03e3c370ad740f51f12f1681bbdf8c27aa01d/metakernel-0.24.4-py2.py3-none-any.whl (208kB)\n",
            "\r\u001b[K     |█▋                              | 10kB 17.0MB/s eta 0:00:01\r\u001b[K     |███▏                            | 20kB 6.6MB/s eta 0:00:01\r\u001b[K     |████▊                           | 30kB 9.1MB/s eta 0:00:01\r\u001b[K     |██████▎                         | 40kB 10.8MB/s eta 0:00:01\r\u001b[K     |███████▉                        | 51kB 7.6MB/s eta 0:00:01\r\u001b[K     |█████████▍                      | 61kB 8.9MB/s eta 0:00:01\r\u001b[K     |███████████                     | 71kB 8.2MB/s eta 0:00:01\r\u001b[K     |████████████▋                   | 81kB 9.2MB/s eta 0:00:01\r\u001b[K     |██████████████▏                 | 92kB 8.6MB/s eta 0:00:01\r\u001b[K     |███████████████▊                | 102kB 8.1MB/s eta 0:00:01\r\u001b[K     |█████████████████▎              | 112kB 8.1MB/s eta 0:00:01\r\u001b[K     |██████████████████▉             | 122kB 8.1MB/s eta 0:00:01\r\u001b[K     |████████████████████▌           | 133kB 8.1MB/s eta 0:00:01\r\u001b[K     |██████████████████████          | 143kB 8.1MB/s eta 0:00:01\r\u001b[K     |███████████████████████▋        | 153kB 8.1MB/s eta 0:00:01\r\u001b[K     |█████████████████████████▏      | 163kB 8.1MB/s eta 0:00:01\r\u001b[K     |██████████████████████████▊     | 174kB 8.1MB/s eta 0:00:01\r\u001b[K     |████████████████████████████▎   | 184kB 8.1MB/s eta 0:00:01\r\u001b[K     |█████████████████████████████▉  | 194kB 8.1MB/s eta 0:00:01\r\u001b[K     |███████████████████████████████▌| 204kB 8.1MB/s eta 0:00:01\r\u001b[K     |████████████████████████████████| 215kB 8.1MB/s \n",
            "\u001b[?25hCollecting yasi\n",
            "  Downloading https://files.pythonhosted.org/packages/3a/58/e369cc04c658f6fbf53de6f05163fc6adbb16694ff7ae56886875fe30c07/yasi-2.1.2.tar.gz\n",
            "Requirement already satisfied, skipping upgrade: pexpect>=4.2 in /usr/local/lib/python3.6/dist-packages (from metakernel->calysto-scheme) (4.8.0)\n",
            "Requirement already satisfied, skipping upgrade: ipykernel in /usr/local/lib/python3.6/dist-packages (from metakernel->calysto-scheme) (4.10.1)\n",
            "Collecting colorama\n",
            "  Downloading https://files.pythonhosted.org/packages/c9/dc/45cdef1b4d119eb96316b3117e6d5708a08029992b2fee2c143c7a0a5cc5/colorama-0.4.3-py2.py3-none-any.whl\n",
            "Requirement already satisfied, skipping upgrade: ptyprocess>=0.5 in /usr/local/lib/python3.6/dist-packages (from pexpect>=4.2->metakernel->calysto-scheme) (0.6.0)\n",
            "Requirement already satisfied, skipping upgrade: ipython>=4.0.0 in /usr/local/lib/python3.6/dist-packages (from ipykernel->metakernel->calysto-scheme) (5.5.0)\n",
            "Requirement already satisfied, skipping upgrade: tornado>=4.0 in /usr/local/lib/python3.6/dist-packages (from ipykernel->metakernel->calysto-scheme) (4.5.3)\n",
            "Requirement already satisfied, skipping upgrade: traitlets>=4.1.0 in /usr/local/lib/python3.6/dist-packages (from ipykernel->metakernel->calysto-scheme) (4.3.3)\n",
            "Requirement already satisfied, skipping upgrade: jupyter-client in /usr/local/lib/python3.6/dist-packages (from ipykernel->metakernel->calysto-scheme) (5.3.4)\n",
            "Requirement already satisfied, skipping upgrade: pygments in /usr/local/lib/python3.6/dist-packages (from ipython>=4.0.0->ipykernel->metakernel->calysto-scheme) (2.1.3)\n",
            "Requirement already satisfied, skipping upgrade: decorator in /usr/local/lib/python3.6/dist-packages (from ipython>=4.0.0->ipykernel->metakernel->calysto-scheme) (4.4.2)\n",
            "Requirement already satisfied, skipping upgrade: simplegeneric>0.8 in /usr/local/lib/python3.6/dist-packages (from ipython>=4.0.0->ipykernel->metakernel->calysto-scheme) (0.8.1)\n",
            "Requirement already satisfied, skipping upgrade: setuptools>=18.5 in /usr/local/lib/python3.6/dist-packages (from ipython>=4.0.0->ipykernel->metakernel->calysto-scheme) (47.3.1)\n",
            "Requirement already satisfied, skipping upgrade: prompt-toolkit<2.0.0,>=1.0.4 in /usr/local/lib/python3.6/dist-packages (from ipython>=4.0.0->ipykernel->metakernel->calysto-scheme) (1.0.18)\n",
            "Requirement already satisfied, skipping upgrade: pickleshare in /usr/local/lib/python3.6/dist-packages (from ipython>=4.0.0->ipykernel->metakernel->calysto-scheme) (0.7.5)\n",
            "Requirement already satisfied, skipping upgrade: ipython-genutils in /usr/local/lib/python3.6/dist-packages (from traitlets>=4.1.0->ipykernel->metakernel->calysto-scheme) (0.2.0)\n",
            "Requirement already satisfied, skipping upgrade: six in /usr/local/lib/python3.6/dist-packages (from traitlets>=4.1.0->ipykernel->metakernel->calysto-scheme) (1.12.0)\n",
            "Requirement already satisfied, skipping upgrade: python-dateutil>=2.1 in /usr/local/lib/python3.6/dist-packages (from jupyter-client->ipykernel->metakernel->calysto-scheme) (2.8.1)\n",
            "Requirement already satisfied, skipping upgrade: pyzmq>=13 in /usr/local/lib/python3.6/dist-packages (from jupyter-client->ipykernel->metakernel->calysto-scheme) (19.0.1)\n",
            "Requirement already satisfied, skipping upgrade: jupyter-core>=4.6.0 in /usr/local/lib/python3.6/dist-packages (from jupyter-client->ipykernel->metakernel->calysto-scheme) (4.6.3)\n",
            "Requirement already satisfied, skipping upgrade: wcwidth in /usr/local/lib/python3.6/dist-packages (from prompt-toolkit<2.0.0,>=1.0.4->ipython>=4.0.0->ipykernel->metakernel->calysto-scheme) (0.2.5)\n",
            "Building wheels for collected packages: yasi\n",
            "  Building wheel for yasi (setup.py) ... \u001b[?25l\u001b[?25hdone\n",
            "  Created wheel for yasi: filename=yasi-2.1.2-cp36-none-any.whl size=20687 sha256=d0a6ddbe679540a38a90e0e7675e2541fc243158d8b96b2977ed181c401cabb2\n",
            "  Stored in directory: /root/.cache/pip/wheels/61/fd/0b/8cb55b23a37b324c6e713804eaf594f9abb375d1eaf6dd4931\n",
            "Successfully built yasi\n",
            "Installing collected packages: metakernel, colorama, yasi, calysto-scheme\n",
            "\u001b[33m  WARNING: The script yasi is installed in '/root/.local/bin' which is not on PATH.\n",
            "  Consider adding this directory to PATH or, if you prefer to suppress this warning, use --no-warn-script-location.\u001b[0m\n",
            "Successfully installed calysto-scheme-1.4.6 colorama-0.4.3 metakernel-0.24.4 yasi-2.1.2\n",
            "[InstallKernelSpec] Removing existing kernelspec in /root/.local/share/jupyter/kernels/calysto_scheme\n",
            "[InstallKernelSpec] Installed kernelspec calysto_scheme in /root/.local/share/jupyter/kernels/calysto_scheme\n"
          ],
          "name": "stdout"
        }
      ]
    },
    {
      "cell_type": "code",
      "metadata": {
        "id": "WS2cLnq_XIVa",
        "colab_type": "code",
        "colab": {
          "base_uri": "https://localhost:8080/",
          "height": 34
        },
        "outputId": "1ca65a9f-89d1-4c85-806c-a125d187e8c3"
      },
      "source": [
        "(+ 1 1)"
      ],
      "execution_count": 2,
      "outputs": [
        {
          "output_type": "execute_result",
          "data": {
            "text/plain": [
              "2"
            ]
          },
          "metadata": {
            "tags": []
          },
          "execution_count": 2
        }
      ]
    },
    {
      "cell_type": "code",
      "metadata": {
        "id": "ZQOhJyN6XJRr",
        "colab_type": "code",
        "colab": {
          "base_uri": "https://localhost:8080/",
          "height": 34
        },
        "outputId": "4f7859c0-6d38-4827-a930-40fa02627572"
      },
      "source": [
        "(define x 12)\n",
        "(define y 5)\n",
        "\n",
        "(define z (+ (* x x) (* y y)))\n",
        "\n",
        "(sqrt z)"
      ],
      "execution_count": 11,
      "outputs": [
        {
          "output_type": "execute_result",
          "data": {
            "text/plain": [
              "13.0"
            ]
          },
          "metadata": {
            "tags": []
          },
          "execution_count": 11
        }
      ]
    },
    {
      "cell_type": "code",
      "metadata": {
        "id": "MhY61vzMgIt1",
        "colab_type": "code",
        "colab": {
          "base_uri": "https://localhost:8080/",
          "height": 34
        },
        "outputId": "04af477c-79b0-4f72-f8af-687094d0bbab"
      },
      "source": [
        "(define prefix \"hello\")\n",
        "(define suffix \"world\")\n",
        "(define x \" \")\n",
        "(string-append prefix x suffix)"
      ],
      "execution_count": 15,
      "outputs": [
        {
          "output_type": "execute_result",
          "data": {
            "text/plain": [
              "\"hello world\""
            ]
          },
          "metadata": {
            "tags": []
          },
          "execution_count": 15
        }
      ]
    },
    {
      "cell_type": "code",
      "metadata": {
        "id": "XvpOWi_ShRPH",
        "colab_type": "code",
        "colab": {
          "base_uri": "https://localhost:8080/",
          "height": 34
        },
        "outputId": "4ecc6ee5-0649-4169-96fe-f9487d22a5a4"
      },
      "source": [
        "(string-length \"gneignaeigjowgjoeag\")\n",
        "(number->string 7)\n",
        "(substring \"Hello World\" 2 6)\n",
        "(+ (string-length \"gurhfa\") 22)\n",
        "(* (string-length \"sunshine\") 5)\n",
        "(string-ref \"hello world\" 4)"
      ],
      "execution_count": 34,
      "outputs": [
        {
          "output_type": "execute_result",
          "data": {
            "text/plain": [
              "#\\o"
            ]
          },
          "metadata": {
            "tags": []
          },
          "execution_count": 34
        }
      ]
    },
    {
      "cell_type": "code",
      "metadata": {
        "id": "DLbtFxFuigvo",
        "colab_type": "code",
        "colab": {
          "base_uri": "https://localhost:8080/",
          "height": 34
        },
        "outputId": "cfe1f534-1c5d-4b4a-885e-b62a682afd69"
      },
      "source": [
        "(define str \"helloworld\")\n",
        "(define i 5)\n",
        "(define prefix (substring str 0 i))\n",
        "(define suffix (substring str i))\n",
        "(define x \"_\")\n",
        "(string-append prefix x suffix)"
      ],
      "execution_count": 37,
      "outputs": [
        {
          "output_type": "execute_result",
          "data": {
            "text/plain": [
              "\"hello_world\""
            ]
          },
          "metadata": {
            "tags": []
          },
          "execution_count": 37
        }
      ]
    },
    {
      "cell_type": "code",
      "metadata": {
        "id": "y3dG6GSIkql1",
        "colab_type": "code",
        "colab": {
          "base_uri": "https://localhost:8080/",
          "height": 34
        },
        "outputId": "d0ad6a4c-0da4-49d8-828a-a3185430cc4a"
      },
      "source": [
        "(define str \"hello_world\")\n",
        "(define i 5)\n",
        "(define prefix (substring str 0 i))\n",
        "(define suffix (substring str (+ i 1)))\n",
        "(string-append prefix suffix)"
      ],
      "execution_count": 42,
      "outputs": [
        {
          "output_type": "execute_result",
          "data": {
            "text/plain": [
              "\"helloworld\""
            ]
          },
          "metadata": {
            "tags": []
          },
          "execution_count": 42
        }
      ]
    },
    {
      "cell_type": "code",
      "metadata": {
        "id": "OJ3TpNjelxhk",
        "colab_type": "code",
        "colab": {}
      },
      "source": [
        ""
      ],
      "execution_count": null,
      "outputs": []
    }
  ]
}