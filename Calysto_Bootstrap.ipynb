{
  "nbformat": 4,
  "nbformat_minor": 0,
  "metadata": {
    "kernelspec": {
      "display_name": "Calysto Scheme (Python)",
      "language": "scheme",
      "name": "calysto_scheme"
    },
    "language_info": {
      "codemirror_mode": {
        "name": "scheme"
      },
      "mimetype": "text/x-scheme",
      "name": "scheme",
      "pygments_lexer": "scheme"
    },
    "colab": {
      "name": "Calysto_Bootstrap.ipynb",
      "provenance": [],
      "include_colab_link": true
    }
  },
  "cells": [
    {
      "cell_type": "markdown",
      "metadata": {
        "id": "view-in-github",
        "colab_type": "text"
      },
      "source": [
        "<a href=\"https://colab.research.google.com/github/Snowfirek/fundamental-scheme/blob/master/Calysto_Bootstrap.ipynb\" target=\"_parent\"><img src=\"https://colab.research.google.com/assets/colab-badge.svg\" alt=\"Open In Colab\"/></a>"
      ]
    },
    {
      "cell_type": "code",
      "metadata": {
        "id": "0uDbVUswWC0f",
        "colab_type": "code",
        "colab": {
          "base_uri": "https://localhost:8080/",
          "height": 442
        },
        "outputId": "9080a11a-3da9-464c-f7eb-b05cc3eff3c2"
      },
      "source": [
        "!pip3 install --upgrade calysto-scheme --user\n",
        "!python3 -m calysto_scheme install --user"
      ],
      "execution_count": 3,
      "outputs": [
        {
          "output_type": "stream",
          "text": [
            "Requirement already up-to-date: calysto-scheme in /root/.local/lib/python3.6/site-packages (1.4.6)\n",
            "Requirement already satisfied, skipping upgrade: yasi in /root/.local/lib/python3.6/site-packages (from calysto-scheme) (2.1.2)\n",
            "Requirement already satisfied, skipping upgrade: metakernel in /root/.local/lib/python3.6/site-packages (from calysto-scheme) (0.24.4)\n",
            "Requirement already satisfied, skipping upgrade: colorama in /root/.local/lib/python3.6/site-packages (from yasi->calysto-scheme) (0.4.3)\n",
            "Requirement already satisfied, skipping upgrade: ipykernel in /usr/local/lib/python3.6/dist-packages (from metakernel->calysto-scheme) (4.10.1)\n",
            "Requirement already satisfied, skipping upgrade: pexpect>=4.2 in /usr/local/lib/python3.6/dist-packages (from metakernel->calysto-scheme) (4.8.0)\n",
            "Requirement already satisfied, skipping upgrade: tornado>=4.0 in /usr/local/lib/python3.6/dist-packages (from ipykernel->metakernel->calysto-scheme) (4.5.3)\n",
            "Requirement already satisfied, skipping upgrade: traitlets>=4.1.0 in /usr/local/lib/python3.6/dist-packages (from ipykernel->metakernel->calysto-scheme) (4.3.3)\n",
            "Requirement already satisfied, skipping upgrade: jupyter-client in /usr/local/lib/python3.6/dist-packages (from ipykernel->metakernel->calysto-scheme) (5.3.4)\n",
            "Requirement already satisfied, skipping upgrade: ipython>=4.0.0 in /usr/local/lib/python3.6/dist-packages (from ipykernel->metakernel->calysto-scheme) (5.5.0)\n",
            "Requirement already satisfied, skipping upgrade: ptyprocess>=0.5 in /usr/local/lib/python3.6/dist-packages (from pexpect>=4.2->metakernel->calysto-scheme) (0.6.0)\n",
            "Requirement already satisfied, skipping upgrade: decorator in /usr/local/lib/python3.6/dist-packages (from traitlets>=4.1.0->ipykernel->metakernel->calysto-scheme) (4.4.2)\n",
            "Requirement already satisfied, skipping upgrade: ipython-genutils in /usr/local/lib/python3.6/dist-packages (from traitlets>=4.1.0->ipykernel->metakernel->calysto-scheme) (0.2.0)\n",
            "Requirement already satisfied, skipping upgrade: six in /usr/local/lib/python3.6/dist-packages (from traitlets>=4.1.0->ipykernel->metakernel->calysto-scheme) (1.12.0)\n",
            "Requirement already satisfied, skipping upgrade: pyzmq>=13 in /usr/local/lib/python3.6/dist-packages (from jupyter-client->ipykernel->metakernel->calysto-scheme) (19.0.1)\n",
            "Requirement already satisfied, skipping upgrade: python-dateutil>=2.1 in /usr/local/lib/python3.6/dist-packages (from jupyter-client->ipykernel->metakernel->calysto-scheme) (2.8.1)\n",
            "Requirement already satisfied, skipping upgrade: jupyter-core>=4.6.0 in /usr/local/lib/python3.6/dist-packages (from jupyter-client->ipykernel->metakernel->calysto-scheme) (4.6.3)\n",
            "Requirement already satisfied, skipping upgrade: pygments in /usr/local/lib/python3.6/dist-packages (from ipython>=4.0.0->ipykernel->metakernel->calysto-scheme) (2.1.3)\n",
            "Requirement already satisfied, skipping upgrade: setuptools>=18.5 in /usr/local/lib/python3.6/dist-packages (from ipython>=4.0.0->ipykernel->metakernel->calysto-scheme) (47.3.1)\n",
            "Requirement already satisfied, skipping upgrade: prompt-toolkit<2.0.0,>=1.0.4 in /usr/local/lib/python3.6/dist-packages (from ipython>=4.0.0->ipykernel->metakernel->calysto-scheme) (1.0.18)\n",
            "Requirement already satisfied, skipping upgrade: pickleshare in /usr/local/lib/python3.6/dist-packages (from ipython>=4.0.0->ipykernel->metakernel->calysto-scheme) (0.7.5)\n",
            "Requirement already satisfied, skipping upgrade: simplegeneric>0.8 in /usr/local/lib/python3.6/dist-packages (from ipython>=4.0.0->ipykernel->metakernel->calysto-scheme) (0.8.1)\n",
            "Requirement already satisfied, skipping upgrade: wcwidth in /usr/local/lib/python3.6/dist-packages (from prompt-toolkit<2.0.0,>=1.0.4->ipython>=4.0.0->ipykernel->metakernel->calysto-scheme) (0.2.5)\n",
            "[InstallKernelSpec] Removing existing kernelspec in /root/.local/share/jupyter/kernels/calysto_scheme\n",
            "[InstallKernelSpec] Installed kernelspec calysto_scheme in /root/.local/share/jupyter/kernels/calysto_scheme\n"
          ],
          "name": "stdout"
        }
      ]
    },
    {
      "cell_type": "code",
      "metadata": {
        "id": "WS2cLnq_XIVa",
        "colab_type": "code",
        "colab": {
          "base_uri": "https://localhost:8080/",
          "height": 34
        },
        "outputId": "c6ffd9cb-4408-48f2-82a9-1671f7c9cc3a"
      },
      "source": [
        "(+ 1 1)"
      ],
      "execution_count": 1,
      "outputs": [
        {
          "output_type": "execute_result",
          "data": {
            "text/plain": [
              "2"
            ]
          },
          "metadata": {
            "tags": []
          },
          "execution_count": 1
        }
      ]
    },
    {
      "cell_type": "code",
      "metadata": {
        "id": "ZQOhJyN6XJRr",
        "colab_type": "code",
        "colab": {
          "base_uri": "https://localhost:8080/",
          "height": 34
        },
        "outputId": "851cceee-d652-42d9-e6c0-689ce2a2d055"
      },
      "source": [
        "(define x 12)\n",
        "(define y 5)\n",
        "\n",
        "(define z (+ (* x x) (* y y)))\n",
        "\n",
        "(sqrt z)"
      ],
      "execution_count": 15,
      "outputs": [
        {
          "output_type": "execute_result",
          "data": {
            "text/plain": [
              "13.0"
            ]
          },
          "metadata": {
            "tags": []
          },
          "execution_count": 15
        }
      ]
    },
    {
      "cell_type": "code",
      "metadata": {
        "id": "MhY61vzMgIt1",
        "colab_type": "code",
        "colab": {
          "base_uri": "https://localhost:8080/",
          "height": 34
        },
        "outputId": "ebcd5a2f-96f5-4df9-c7f1-28310281d96b"
      },
      "source": [
        "(define prefix \"hello\")\n",
        "(define suffix \"world\")\n",
        "(define x \" \")\n",
        "(string-append prefix x suffix)"
      ],
      "execution_count": 16,
      "outputs": [
        {
          "output_type": "execute_result",
          "data": {
            "text/plain": [
              "\"hello world\""
            ]
          },
          "metadata": {
            "tags": []
          },
          "execution_count": 16
        }
      ]
    },
    {
      "cell_type": "code",
      "metadata": {
        "id": "XvpOWi_ShRPH",
        "colab_type": "code",
        "colab": {
          "base_uri": "https://localhost:8080/",
          "height": 34
        },
        "outputId": "8c3866c3-52de-4e8c-db54-a67441a7a88c"
      },
      "source": [
        "(string-length \"gneignaeigjowgjoeag\")\n",
        "(number->string 7)\n",
        "(substring \"Hello World\" 2 6)\n",
        "(+ (string-length \"gurhfa\") 22)\n",
        "(* (string-length \"sunshine\") 5)\n",
        "(string-ref \"hello world\" 4)"
      ],
      "execution_count": 17,
      "outputs": [
        {
          "output_type": "execute_result",
          "data": {
            "text/plain": [
              "#\\o"
            ]
          },
          "metadata": {
            "tags": []
          },
          "execution_count": 17
        }
      ]
    },
    {
      "cell_type": "code",
      "metadata": {
        "id": "DLbtFxFuigvo",
        "colab_type": "code",
        "colab": {
          "base_uri": "https://localhost:8080/",
          "height": 34
        },
        "outputId": "70162ef9-9e8c-4f30-a1cf-0539a480c3b6"
      },
      "source": [
        "(define str \"helloworld\")\n",
        "(define i 5)\n",
        "(define prefix (substring str 0 i))\n",
        "(define suffix (substring str i))\n",
        "(define x \"_\")\n",
        "(string-append prefix x suffix)"
      ],
      "execution_count": 14,
      "outputs": [
        {
          "output_type": "execute_result",
          "data": {
            "text/plain": [
              "\"hello_world\""
            ]
          },
          "metadata": {
            "tags": []
          },
          "execution_count": 14
        }
      ]
    },
    {
      "cell_type": "code",
      "metadata": {
        "id": "y3dG6GSIkql1",
        "colab_type": "code",
        "colab": {
          "base_uri": "https://localhost:8080/",
          "height": 34
        },
        "outputId": "d0ad6a4c-0da4-49d8-828a-a3185430cc4a"
      },
      "source": [
        "(define str \"hello_world\")\n",
        "(define i 5)\n",
        "(define prefix (substring str 0 i))\n",
        "(define suffix (substring str (+ i 1)))\n",
        "(string-append prefix suffix)"
      ],
      "execution_count": null,
      "outputs": [
        {
          "output_type": "execute_result",
          "data": {
            "text/plain": [
              "\"helloworld\""
            ]
          },
          "metadata": {
            "tags": []
          },
          "execution_count": 42
        }
      ]
    },
    {
      "cell_type": "code",
      "metadata": {
        "id": "OJ3TpNjelxhk",
        "colab_type": "code",
        "colab": {
          "base_uri": "https://localhost:8080/",
          "height": 34
        },
        "outputId": "16ae9a6f-8245-4d6e-e1f5-982dc65cb7d4"
      },
      "source": [
        "(and #f #t)\n",
        "(or #t #t)\n",
        "(not #f)"
      ],
      "execution_count": null,
      "outputs": [
        {
          "output_type": "execute_result",
          "data": {
            "text/plain": [
              "#t"
            ]
          },
          "metadata": {
            "tags": []
          },
          "execution_count": 53
        }
      ]
    },
    {
      "cell_type": "code",
      "metadata": {
        "id": "JIyO4sX6n_R5",
        "colab_type": "code",
        "colab": {
          "base_uri": "https://localhost:8080/",
          "height": 34
        },
        "outputId": "d96948e5-6b27-47fd-ad55-a4713a035950"
      },
      "source": [
        "(define sunny #t)\n",
        "(define friday #f)\n",
        "(and sunny friday)"
      ],
      "execution_count": 13,
      "outputs": [
        {
          "output_type": "execute_result",
          "data": {
            "text/plain": [
              "#f"
            ]
          },
          "metadata": {
            "tags": []
          },
          "execution_count": 13
        }
      ]
    },
    {
      "cell_type": "code",
      "metadata": {
        "id": "YZyR9GcbpIUc",
        "colab_type": "code",
        "colab": {
          "base_uri": "https://localhost:8080/",
          "height": 34
        },
        "outputId": "4bb08faa-3866-4a15-f53b-47089125cad2"
      },
      "source": [
        "(define height 7)\n",
        "(define width 6)\n",
        "(define square \"This is a square\")\n",
        "(define tall \"This is a tall\")\n",
        "(define wide \"This is a wide\")\n",
        "\n",
        "(if (= height width) \n",
        "  square (if (> height width)\n",
        "    tall (if (> width height)\n",
        "      wide\n",
        "    )\n",
        "  )\n",
        ")"
      ],
      "execution_count": 48,
      "outputs": [
        {
          "output_type": "execute_result",
          "data": {
            "text/plain": [
              "\"This is a tall\""
            ]
          },
          "metadata": {
            "tags": []
          },
          "execution_count": 48
        }
      ]
    },
    {
      "cell_type": "code",
      "metadata": {
        "id": "4b8A2eY1vx0A",
        "colab_type": "code",
        "colab": {
          "base_uri": "https://localhost:8080/",
          "height": 34
        },
        "outputId": "866ca167-e9e5-4bc5-a94b-e4b608791b7e"
      },
      "source": [
        "(number? 4)\n",
        "(number? #t)\n",
        "(boolean? 1)"
      ],
      "execution_count": null,
      "outputs": [
        {
          "output_type": "execute_result",
          "data": {
            "text/plain": [
              "#f"
            ]
          },
          "metadata": {
            "tags": []
          },
          "execution_count": 95
        }
      ]
    },
    {
      "cell_type": "code",
      "metadata": {
        "id": "htrxttJOzjgn",
        "colab_type": "code",
        "colab": {
          "base_uri": "https://localhost:8080/",
          "height": 34
        },
        "outputId": "c956dfe7-9ce1-4184-ae9a-2e2eab719869"
      },
      "source": [
        "(define in 4)\n",
        "\n",
        "(if (string? in)\n",
        "  (string-length in) \n",
        "    (if (boolean? in)\n",
        "      (if (= #t in) \n",
        "        10 \n",
        "        (if (= #f in) \n",
        "          20 \n",
        "        )\n",
        "      )\n",
        "      (if (number? in) (- in 1)\n",
        "    )\n",
        "  )\n",
        ")"
      ],
      "execution_count": null,
      "outputs": [
        {
          "output_type": "execute_result",
          "data": {
            "text/plain": [
              "3"
            ]
          },
          "metadata": {
            "tags": []
          },
          "execution_count": 126
        }
      ]
    },
    {
      "cell_type": "code",
      "metadata": {
        "id": "8r8uCWGP-BEU",
        "colab_type": "code",
        "colab": {
          "base_uri": "https://localhost:8080/",
          "height": 34
        },
        "outputId": "9d815d89-5f94-4fc3-e83f-3045e19c870b"
      },
      "source": [
        "(define (ff x y) \n",
        "(sqrt (+ (* x x) (* y y))))\n",
        "(ff 13 15)"
      ],
      "execution_count": 8,
      "outputs": [
        {
          "output_type": "execute_result",
          "data": {
            "text/plain": [
              "19.849433241279208"
            ]
          },
          "metadata": {
            "tags": []
          },
          "execution_count": 8
        }
      ]
    },
    {
      "cell_type": "code",
      "metadata": {
        "id": "Hb4rNLAsJTWl",
        "colab_type": "code",
        "colab": {
          "base_uri": "https://localhost:8080/",
          "height": 34
        },
        "outputId": "5b554bfd-15c4-41c9-eacf-c50ac49c92da"
      },
      "source": [
        "(define (cvolume x) \n",
        "(* x x x))\n",
        "(cvolume 3)"
      ],
      "execution_count": 10,
      "outputs": [
        {
          "output_type": "execute_result",
          "data": {
            "text/plain": [
              "27"
            ]
          },
          "metadata": {
            "tags": []
          },
          "execution_count": 10
        }
      ]
    },
    {
      "cell_type": "code",
      "metadata": {
        "id": "SlXs4L8lKLop",
        "colab_type": "code",
        "colab": {
          "base_uri": "https://localhost:8080/",
          "height": 34
        },
        "outputId": "d2727484-fe5f-4493-997f-844917a46738"
      },
      "source": [
        "(define (csurface x) \n",
        "(* (* x x) 6))\n",
        "(csurface 3)"
      ],
      "execution_count": 12,
      "outputs": [
        {
          "output_type": "execute_result",
          "data": {
            "text/plain": [
              "54"
            ]
          },
          "metadata": {
            "tags": []
          },
          "execution_count": 12
        }
      ]
    },
    {
      "cell_type": "code",
      "metadata": {
        "id": "c74XVQVGKqmR",
        "colab_type": "code",
        "colab": {
          "base_uri": "https://localhost:8080/",
          "height": 34
        },
        "outputId": "ba8f2a35-81fd-4e34-b9fb-91df1723cf78"
      },
      "source": [
        "(define (string-first x)\n",
        "(if (> (string-length x) 0)\n",
        "  (substring x 0 1)\n",
        "  #f\n",
        "  )\n",
        ")\n",
        "(string-first \"-\")"
      ],
      "execution_count": 33,
      "outputs": [
        {
          "output_type": "execute_result",
          "data": {
            "text/plain": [
              "\"-\""
            ]
          },
          "metadata": {
            "tags": []
          },
          "execution_count": 33
        }
      ]
    },
    {
      "cell_type": "code",
      "metadata": {
        "id": "9o04ZhF5OpML",
        "colab_type": "code",
        "colab": {
          "base_uri": "https://localhost:8080/",
          "height": 34
        },
        "outputId": "6c85581e-5b27-4d4c-c9a2-96b02de3e3f5"
      },
      "source": [
        "(define (string-last x)\n",
        "(if (> (string-length x) 0)\n",
        "  (substring x (- (string-length x) 1))\n",
        "  #f\n",
        "  )\n",
        ")\n",
        "(string-last \"asgasdhsdfhrfs\")"
      ],
      "execution_count": 40,
      "outputs": [
        {
          "output_type": "execute_result",
          "data": {
            "text/plain": [
              "\"s\""
            ]
          },
          "metadata": {
            "tags": []
          },
          "execution_count": 40
        }
      ]
    },
    {
      "cell_type": "code",
      "metadata": {
        "id": "F0pgSyMPPPNR",
        "colab_type": "code",
        "colab": {
          "base_uri": "https://localhost:8080/",
          "height": 34
        },
        "outputId": "4b231137-cffb-4409-bbe4-177b4bbacbd1"
      },
      "source": [
        "(define (==> sunny friday)\n",
        "(if (= sunny #f)\n",
        "  #t (if (= friday #t)\n",
        "    #t #f)\n",
        "  )\n",
        ")\n",
        "(==> #t #f)"
      ],
      "execution_count": 47,
      "outputs": [
        {
          "output_type": "execute_result",
          "data": {
            "text/plain": [
              "#f"
            ]
          },
          "metadata": {
            "tags": []
          },
          "execution_count": 47
        }
      ]
    },
    {
      "cell_type": "code",
      "metadata": {
        "id": "hDDlRTq8QRYh",
        "colab_type": "code",
        "colab": {
          "base_uri": "https://localhost:8080/",
          "height": 34
        },
        "outputId": "ba4eeace-12ef-4fec-fb96-2c83f22e9eb1"
      },
      "source": [
        "(define (image-classify x y)\n",
        "(if (= x y) \n",
        "  \"square\" (if (> x y)\n",
        "    \"tall\" (if (> y x)\n",
        "      \"wide\"\n",
        "    )\n",
        "  )\n",
        ")\n",
        ")\n",
        "(image-classify 6 3)"
      ],
      "execution_count": 58,
      "outputs": [
        {
          "output_type": "execute_result",
          "data": {
            "text/plain": [
              "\"tall\""
            ]
          },
          "metadata": {
            "tags": []
          },
          "execution_count": 58
        }
      ]
    },
    {
      "cell_type": "code",
      "metadata": {
        "id": "Qr_6rUvCRJLd",
        "colab_type": "code",
        "colab": {
          "base_uri": "https://localhost:8080/",
          "height": 34
        },
        "outputId": "a15e667a-0bb1-4de6-9338-e9f2118e3fe4"
      },
      "source": [
        "(define (string-join x y)\n",
        "(string-append x \"_\" y)\n",
        ")\n",
        "(string-join \"hello\" \"world\")"
      ],
      "execution_count": 55,
      "outputs": [
        {
          "output_type": "execute_result",
          "data": {
            "text/plain": [
              "\"hello_world\""
            ]
          },
          "metadata": {
            "tags": []
          },
          "execution_count": 55
        }
      ]
    },
    {
      "cell_type": "code",
      "metadata": {
        "id": "GgZ0ls6RRyJG",
        "colab_type": "code",
        "colab": {
          "base_uri": "https://localhost:8080/",
          "height": 34
        },
        "outputId": "4c4c6416-8eaa-4adb-c0bf-7d26db3aaf43"
      },
      "source": [
        "(define (string-insert x y)\n",
        "(if (>= (string-length x) y)\n",
        "  (let \n",
        "    ((prefix (substring x 0 y)) (suffix (substring x y)))\n",
        "    (string-append prefix \"_\" suffix)\n",
        "  ) #f\n",
        ")\n",
        ")\n",
        "(string-insert \"helloworld\" 5)"
      ],
      "execution_count": 82,
      "outputs": [
        {
          "output_type": "execute_result",
          "data": {
            "text/plain": [
              "\"hello_world\""
            ]
          },
          "metadata": {
            "tags": []
          },
          "execution_count": 82
        }
      ]
    },
    {
      "cell_type": "code",
      "metadata": {
        "id": "b9EtozZNYV-U",
        "colab_type": "code",
        "colab": {
          "base_uri": "https://localhost:8080/",
          "height": 34
        },
        "outputId": "4caa6b90-6a31-45ff-bc8f-ce4234d4d22b"
      },
      "source": [
        "(define (string-delete x y)\n",
        "(if (>= (string-length x) y)\n",
        "  (let \n",
        "    ((prefix (substring x 0 y)) \n",
        "    (substring x (+ y 1))\n",
        "    )\n",
        "    (string-append prefix suffix)\n",
        "  ) #f\n",
        ")\n",
        ")\n",
        "(string-delete \"hello world\" 5)"
      ],
      "execution_count": 85,
      "outputs": [
        {
          "output_type": "execute_result",
          "data": {
            "text/plain": [
              "\"helloworld\""
            ]
          },
          "metadata": {
            "tags": []
          },
          "execution_count": 85
        }
      ]
    }
  ]
}