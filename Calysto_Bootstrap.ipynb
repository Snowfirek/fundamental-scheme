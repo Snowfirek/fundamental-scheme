{
  "nbformat": 4,
  "nbformat_minor": 0,
  "metadata": {
    "kernelspec": {
      "display_name": "Calysto Scheme (Python)",
      "language": "scheme",
      "name": "calysto_scheme"
    },
    "language_info": {
      "codemirror_mode": {
        "name": "scheme"
      },
      "mimetype": "text/x-scheme",
      "name": "scheme",
      "pygments_lexer": "scheme"
    },
    "colab": {
      "name": "Calysto_Bootstrap.ipynb",
      "provenance": [],
      "include_colab_link": true
    }
  },
  "cells": [
    {
      "cell_type": "markdown",
      "metadata": {
        "id": "view-in-github",
        "colab_type": "text"
      },
      "source": [
        "<a href=\"https://colab.research.google.com/github/Snowfirek/fundamental-scheme/blob/master/Calysto_Bootstrap.ipynb\" target=\"_parent\"><img src=\"https://colab.research.google.com/assets/colab-badge.svg\" alt=\"Open In Colab\"/></a>"
      ]
    },
    {
      "cell_type": "code",
      "metadata": {
        "id": "0uDbVUswWC0f",
        "colab_type": "code",
        "colab": {
          "base_uri": "https://localhost:8080/",
          "height": 697
        },
        "outputId": "3f8ee9c7-0149-4dbc-acde-e4586b8bb201"
      },
      "source": [
        "!pip3 install --upgrade calysto-scheme --user\n",
        "!python3 -m calysto_scheme install --user"
      ],
      "execution_count": 3,
      "outputs": [
        {
          "output_type": "stream",
          "text": [
            "Collecting calysto-scheme\n",
            "\u001b[?25l  Downloading https://files.pythonhosted.org/packages/e3/fe/a899c9f10b1b78ab6587a5692569f88727584ebeecd4bc177691823464cd/calysto_scheme-1.4.6-py2.py3-none-any.whl (313kB)\n",
            "\u001b[K     |████████████████████████████████| 317kB 5.3MB/s \n",
            "\u001b[?25hCollecting metakernel\n",
            "\u001b[?25l  Downloading https://files.pythonhosted.org/packages/f6/14/f0020ab2b2861593e94a62a03e3c370ad740f51f12f1681bbdf8c27aa01d/metakernel-0.24.4-py2.py3-none-any.whl (208kB)\n",
            "\u001b[K     |████████████████████████████████| 215kB 19.2MB/s \n",
            "\u001b[?25hCollecting yasi\n",
            "  Downloading https://files.pythonhosted.org/packages/3a/58/e369cc04c658f6fbf53de6f05163fc6adbb16694ff7ae56886875fe30c07/yasi-2.1.2.tar.gz\n",
            "Requirement already satisfied, skipping upgrade: ipykernel in /usr/local/lib/python3.6/dist-packages (from metakernel->calysto-scheme) (4.10.1)\n",
            "Requirement already satisfied, skipping upgrade: pexpect>=4.2 in /usr/local/lib/python3.6/dist-packages (from metakernel->calysto-scheme) (4.8.0)\n",
            "Collecting colorama\n",
            "  Downloading https://files.pythonhosted.org/packages/c9/dc/45cdef1b4d119eb96316b3117e6d5708a08029992b2fee2c143c7a0a5cc5/colorama-0.4.3-py2.py3-none-any.whl\n",
            "Requirement already satisfied, skipping upgrade: ipython>=4.0.0 in /usr/local/lib/python3.6/dist-packages (from ipykernel->metakernel->calysto-scheme) (5.5.0)\n",
            "Requirement already satisfied, skipping upgrade: jupyter-client in /usr/local/lib/python3.6/dist-packages (from ipykernel->metakernel->calysto-scheme) (5.3.5)\n",
            "Requirement already satisfied, skipping upgrade: traitlets>=4.1.0 in /usr/local/lib/python3.6/dist-packages (from ipykernel->metakernel->calysto-scheme) (4.3.3)\n",
            "Requirement already satisfied, skipping upgrade: tornado>=4.0 in /usr/local/lib/python3.6/dist-packages (from ipykernel->metakernel->calysto-scheme) (5.1.1)\n",
            "Requirement already satisfied, skipping upgrade: ptyprocess>=0.5 in /usr/local/lib/python3.6/dist-packages (from pexpect>=4.2->metakernel->calysto-scheme) (0.6.0)\n",
            "Requirement already satisfied, skipping upgrade: simplegeneric>0.8 in /usr/local/lib/python3.6/dist-packages (from ipython>=4.0.0->ipykernel->metakernel->calysto-scheme) (0.8.1)\n",
            "Requirement already satisfied, skipping upgrade: decorator in /usr/local/lib/python3.6/dist-packages (from ipython>=4.0.0->ipykernel->metakernel->calysto-scheme) (4.4.2)\n",
            "Requirement already satisfied, skipping upgrade: setuptools>=18.5 in /usr/local/lib/python3.6/dist-packages (from ipython>=4.0.0->ipykernel->metakernel->calysto-scheme) (49.2.0)\n",
            "Requirement already satisfied, skipping upgrade: prompt-toolkit<2.0.0,>=1.0.4 in /usr/local/lib/python3.6/dist-packages (from ipython>=4.0.0->ipykernel->metakernel->calysto-scheme) (1.0.18)\n",
            "Requirement already satisfied, skipping upgrade: pickleshare in /usr/local/lib/python3.6/dist-packages (from ipython>=4.0.0->ipykernel->metakernel->calysto-scheme) (0.7.5)\n",
            "Requirement already satisfied, skipping upgrade: pygments in /usr/local/lib/python3.6/dist-packages (from ipython>=4.0.0->ipykernel->metakernel->calysto-scheme) (2.1.3)\n",
            "Requirement already satisfied, skipping upgrade: pyzmq>=13 in /usr/local/lib/python3.6/dist-packages (from jupyter-client->ipykernel->metakernel->calysto-scheme) (19.0.1)\n",
            "Requirement already satisfied, skipping upgrade: jupyter-core>=4.6.0 in /usr/local/lib/python3.6/dist-packages (from jupyter-client->ipykernel->metakernel->calysto-scheme) (4.6.3)\n",
            "Requirement already satisfied, skipping upgrade: python-dateutil>=2.1 in /usr/local/lib/python3.6/dist-packages (from jupyter-client->ipykernel->metakernel->calysto-scheme) (2.8.1)\n",
            "Requirement already satisfied, skipping upgrade: six in /usr/local/lib/python3.6/dist-packages (from traitlets>=4.1.0->ipykernel->metakernel->calysto-scheme) (1.15.0)\n",
            "Requirement already satisfied, skipping upgrade: ipython-genutils in /usr/local/lib/python3.6/dist-packages (from traitlets>=4.1.0->ipykernel->metakernel->calysto-scheme) (0.2.0)\n",
            "Requirement already satisfied, skipping upgrade: wcwidth in /usr/local/lib/python3.6/dist-packages (from prompt-toolkit<2.0.0,>=1.0.4->ipython>=4.0.0->ipykernel->metakernel->calysto-scheme) (0.2.5)\n",
            "Building wheels for collected packages: yasi\n",
            "  Building wheel for yasi (setup.py) ... \u001b[?25l\u001b[?25hdone\n",
            "  Created wheel for yasi: filename=yasi-2.1.2-cp36-none-any.whl size=20687 sha256=a32a274458909a186ddfc63d555fba008e8bb44c6af8abd99ffa427296d85a0e\n",
            "  Stored in directory: /root/.cache/pip/wheels/61/fd/0b/8cb55b23a37b324c6e713804eaf594f9abb375d1eaf6dd4931\n",
            "Successfully built yasi\n",
            "Installing collected packages: metakernel, colorama, yasi, calysto-scheme\n",
            "\u001b[33m  WARNING: The script yasi is installed in '/root/.local/bin' which is not on PATH.\n",
            "  Consider adding this directory to PATH or, if you prefer to suppress this warning, use --no-warn-script-location.\u001b[0m\n",
            "Successfully installed calysto-scheme-1.4.6 colorama-0.4.3 metakernel-0.24.4 yasi-2.1.2\n",
            "[InstallKernelSpec] Removing existing kernelspec in /root/.local/share/jupyter/kernels/calysto_scheme\n",
            "[InstallKernelSpec] Installed kernelspec calysto_scheme in /root/.local/share/jupyter/kernels/calysto_scheme\n"
          ],
          "name": "stdout"
        }
      ]
    },
    {
      "cell_type": "code",
      "metadata": {
        "id": "WS2cLnq_XIVa",
        "colab_type": "code",
        "colab": {
          "base_uri": "https://localhost:8080/",
          "height": 34
        },
        "outputId": "398bb103-7d37-4824-aceb-efecbb44556a"
      },
      "source": [
        "(+ 1 1)"
      ],
      "execution_count": null,
      "outputs": [
        {
          "output_type": "execute_result",
          "data": {
            "text/plain": [
              "2"
            ]
          },
          "metadata": {
            "tags": []
          },
          "execution_count": 1
        }
      ]
    },
    {
      "cell_type": "code",
      "metadata": {
        "id": "ZQOhJyN6XJRr",
        "colab_type": "code",
        "colab": {
          "base_uri": "https://localhost:8080/",
          "height": 34
        },
        "outputId": "851cceee-d652-42d9-e6c0-689ce2a2d055"
      },
      "source": [
        "(define x 12)\n",
        "(define y 5)\n",
        "\n",
        "(define z (+ (* x x) (* y y)))\n",
        "\n",
        "(sqrt z)"
      ],
      "execution_count": null,
      "outputs": [
        {
          "output_type": "execute_result",
          "data": {
            "text/plain": [
              "13.0"
            ]
          },
          "metadata": {
            "tags": []
          },
          "execution_count": 15
        }
      ]
    },
    {
      "cell_type": "code",
      "metadata": {
        "id": "MhY61vzMgIt1",
        "colab_type": "code",
        "colab": {
          "base_uri": "https://localhost:8080/",
          "height": 34
        },
        "outputId": "ebcd5a2f-96f5-4df9-c7f1-28310281d96b"
      },
      "source": [
        "(define prefix \"hello\")\n",
        "(define suffix \"world\")\n",
        "(define x \" \")\n",
        "(string-append prefix x suffix)"
      ],
      "execution_count": null,
      "outputs": [
        {
          "output_type": "execute_result",
          "data": {
            "text/plain": [
              "\"hello world\""
            ]
          },
          "metadata": {
            "tags": []
          },
          "execution_count": 16
        }
      ]
    },
    {
      "cell_type": "code",
      "metadata": {
        "id": "XvpOWi_ShRPH",
        "colab_type": "code",
        "colab": {
          "base_uri": "https://localhost:8080/",
          "height": 34
        },
        "outputId": "8c3866c3-52de-4e8c-db54-a67441a7a88c"
      },
      "source": [
        "(string-length \"gneignaeigjowgjoeag\")\n",
        "(number->string 7)\n",
        "(substring \"Hello World\" 2 6)\n",
        "(+ (string-length \"gurhfa\") 22)\n",
        "(* (string-length \"sunshine\") 5)\n",
        "(string-ref \"hello world\" 4)"
      ],
      "execution_count": null,
      "outputs": [
        {
          "output_type": "execute_result",
          "data": {
            "text/plain": [
              "#\\o"
            ]
          },
          "metadata": {
            "tags": []
          },
          "execution_count": 17
        }
      ]
    },
    {
      "cell_type": "code",
      "metadata": {
        "id": "DLbtFxFuigvo",
        "colab_type": "code",
        "colab": {
          "base_uri": "https://localhost:8080/",
          "height": 34
        },
        "outputId": "70162ef9-9e8c-4f30-a1cf-0539a480c3b6"
      },
      "source": [
        "(define str \"helloworld\")\n",
        "(define i 5)\n",
        "(define prefix (substring str 0 i))\n",
        "(define suffix (substring str i))\n",
        "(define x \"_\")\n",
        "(string-append prefix x suffix)"
      ],
      "execution_count": null,
      "outputs": [
        {
          "output_type": "execute_result",
          "data": {
            "text/plain": [
              "\"hello_world\""
            ]
          },
          "metadata": {
            "tags": []
          },
          "execution_count": 14
        }
      ]
    },
    {
      "cell_type": "code",
      "metadata": {
        "id": "y3dG6GSIkql1",
        "colab_type": "code",
        "colab": {
          "base_uri": "https://localhost:8080/",
          "height": 34
        },
        "outputId": "d0ad6a4c-0da4-49d8-828a-a3185430cc4a"
      },
      "source": [
        "(define str \"hello_world\")\n",
        "(define i 5)\n",
        "(define prefix (substring str 0 i))\n",
        "(define suffix (substring str (+ i 1)))\n",
        "(string-append prefix suffix)"
      ],
      "execution_count": null,
      "outputs": [
        {
          "output_type": "execute_result",
          "data": {
            "text/plain": [
              "\"helloworld\""
            ]
          },
          "metadata": {
            "tags": []
          },
          "execution_count": 42
        }
      ]
    },
    {
      "cell_type": "code",
      "metadata": {
        "id": "OJ3TpNjelxhk",
        "colab_type": "code",
        "colab": {
          "base_uri": "https://localhost:8080/",
          "height": 34
        },
        "outputId": "16ae9a6f-8245-4d6e-e1f5-982dc65cb7d4"
      },
      "source": [
        "(and #f #t)\n",
        "(or #t #t)\n",
        "(not #f)"
      ],
      "execution_count": null,
      "outputs": [
        {
          "output_type": "execute_result",
          "data": {
            "text/plain": [
              "#t"
            ]
          },
          "metadata": {
            "tags": []
          },
          "execution_count": 53
        }
      ]
    },
    {
      "cell_type": "code",
      "metadata": {
        "id": "JIyO4sX6n_R5",
        "colab_type": "code",
        "colab": {
          "base_uri": "https://localhost:8080/",
          "height": 34
        },
        "outputId": "d96948e5-6b27-47fd-ad55-a4713a035950"
      },
      "source": [
        "(define sunny #t)\n",
        "(define friday #f)\n",
        "(and sunny friday)"
      ],
      "execution_count": null,
      "outputs": [
        {
          "output_type": "execute_result",
          "data": {
            "text/plain": [
              "#f"
            ]
          },
          "metadata": {
            "tags": []
          },
          "execution_count": 13
        }
      ]
    },
    {
      "cell_type": "code",
      "metadata": {
        "id": "YZyR9GcbpIUc",
        "colab_type": "code",
        "colab": {
          "base_uri": "https://localhost:8080/",
          "height": 34
        },
        "outputId": "4bb08faa-3866-4a15-f53b-47089125cad2"
      },
      "source": [
        "(define height 7)\n",
        "(define width 6)\n",
        "(define square \"This is a square\")\n",
        "(define tall \"This is a tall\")\n",
        "(define wide \"This is a wide\")\n",
        "\n",
        "(if (= height width) \n",
        "  square (if (> height width)\n",
        "    tall (if (> width height)\n",
        "      wide\n",
        "    )\n",
        "  )\n",
        ")"
      ],
      "execution_count": null,
      "outputs": [
        {
          "output_type": "execute_result",
          "data": {
            "text/plain": [
              "\"This is a tall\""
            ]
          },
          "metadata": {
            "tags": []
          },
          "execution_count": 48
        }
      ]
    },
    {
      "cell_type": "code",
      "metadata": {
        "id": "4b8A2eY1vx0A",
        "colab_type": "code",
        "colab": {
          "base_uri": "https://localhost:8080/",
          "height": 34
        },
        "outputId": "866ca167-e9e5-4bc5-a94b-e4b608791b7e"
      },
      "source": [
        "(number? 4)\n",
        "(number? #t)\n",
        "(boolean? 1)"
      ],
      "execution_count": null,
      "outputs": [
        {
          "output_type": "execute_result",
          "data": {
            "text/plain": [
              "#f"
            ]
          },
          "metadata": {
            "tags": []
          },
          "execution_count": 95
        }
      ]
    },
    {
      "cell_type": "code",
      "metadata": {
        "id": "htrxttJOzjgn",
        "colab_type": "code",
        "colab": {
          "base_uri": "https://localhost:8080/",
          "height": 34
        },
        "outputId": "c956dfe7-9ce1-4184-ae9a-2e2eab719869"
      },
      "source": [
        "(define in 4)\n",
        "\n",
        "(if (string? in)\n",
        "  (string-length in) \n",
        "    (if (boolean? in)\n",
        "      (if (= #t in) \n",
        "        10 \n",
        "        (if (= #f in) \n",
        "          20 \n",
        "        )\n",
        "      )\n",
        "      (if (number? in) (- in 1)\n",
        "    )\n",
        "  )\n",
        ")"
      ],
      "execution_count": null,
      "outputs": [
        {
          "output_type": "execute_result",
          "data": {
            "text/plain": [
              "3"
            ]
          },
          "metadata": {
            "tags": []
          },
          "execution_count": 126
        }
      ]
    },
    {
      "cell_type": "code",
      "metadata": {
        "id": "8r8uCWGP-BEU",
        "colab_type": "code",
        "colab": {
          "base_uri": "https://localhost:8080/",
          "height": 34
        },
        "outputId": "9d815d89-5f94-4fc3-e83f-3045e19c870b"
      },
      "source": [
        "(define (ff x y) \n",
        "(sqrt (+ (* x x) (* y y))))\n",
        "(ff 13 15)"
      ],
      "execution_count": null,
      "outputs": [
        {
          "output_type": "execute_result",
          "data": {
            "text/plain": [
              "19.849433241279208"
            ]
          },
          "metadata": {
            "tags": []
          },
          "execution_count": 8
        }
      ]
    },
    {
      "cell_type": "code",
      "metadata": {
        "id": "Hb4rNLAsJTWl",
        "colab_type": "code",
        "colab": {
          "base_uri": "https://localhost:8080/",
          "height": 34
        },
        "outputId": "5b554bfd-15c4-41c9-eacf-c50ac49c92da"
      },
      "source": [
        "(define (cvolume x) \n",
        "(* x x x))\n",
        "(cvolume 3)"
      ],
      "execution_count": null,
      "outputs": [
        {
          "output_type": "execute_result",
          "data": {
            "text/plain": [
              "27"
            ]
          },
          "metadata": {
            "tags": []
          },
          "execution_count": 10
        }
      ]
    },
    {
      "cell_type": "code",
      "metadata": {
        "id": "SlXs4L8lKLop",
        "colab_type": "code",
        "colab": {
          "base_uri": "https://localhost:8080/",
          "height": 34
        },
        "outputId": "d2727484-fe5f-4493-997f-844917a46738"
      },
      "source": [
        "(define (csurface x) \n",
        "(* (* x x) 6))\n",
        "(csurface 3)"
      ],
      "execution_count": null,
      "outputs": [
        {
          "output_type": "execute_result",
          "data": {
            "text/plain": [
              "54"
            ]
          },
          "metadata": {
            "tags": []
          },
          "execution_count": 12
        }
      ]
    },
    {
      "cell_type": "code",
      "metadata": {
        "id": "c74XVQVGKqmR",
        "colab_type": "code",
        "colab": {
          "base_uri": "https://localhost:8080/",
          "height": 34
        },
        "outputId": "ba8f2a35-81fd-4e34-b9fb-91df1723cf78"
      },
      "source": [
        "(define (string-first x)\n",
        "(if (> (string-length x) 0)\n",
        "  (substring x 0 1)\n",
        "  #f\n",
        "  )\n",
        ")\n",
        "(string-first \"-\")"
      ],
      "execution_count": null,
      "outputs": [
        {
          "output_type": "execute_result",
          "data": {
            "text/plain": [
              "\"-\""
            ]
          },
          "metadata": {
            "tags": []
          },
          "execution_count": 33
        }
      ]
    },
    {
      "cell_type": "code",
      "metadata": {
        "id": "9o04ZhF5OpML",
        "colab_type": "code",
        "colab": {
          "base_uri": "https://localhost:8080/",
          "height": 34
        },
        "outputId": "6c85581e-5b27-4d4c-c9a2-96b02de3e3f5"
      },
      "source": [
        "(define (string-last x)\n",
        "(if (> (string-length x) 0)\n",
        "  (substring x (- (string-length x) 1))\n",
        "  #f\n",
        "  )\n",
        ")\n",
        "(string-last \"asgasdhsdfhrfs\")"
      ],
      "execution_count": null,
      "outputs": [
        {
          "output_type": "execute_result",
          "data": {
            "text/plain": [
              "\"s\""
            ]
          },
          "metadata": {
            "tags": []
          },
          "execution_count": 40
        }
      ]
    },
    {
      "cell_type": "code",
      "metadata": {
        "id": "F0pgSyMPPPNR",
        "colab_type": "code",
        "colab": {
          "base_uri": "https://localhost:8080/",
          "height": 34
        },
        "outputId": "4b231137-cffb-4409-bbe4-177b4bbacbd1"
      },
      "source": [
        "(define (==> sunny friday)\n",
        "(if (= sunny #f)\n",
        "  #t (if (= friday #t)\n",
        "    #t #f)\n",
        "  )\n",
        ")\n",
        "(==> #t #f)"
      ],
      "execution_count": null,
      "outputs": [
        {
          "output_type": "execute_result",
          "data": {
            "text/plain": [
              "#f"
            ]
          },
          "metadata": {
            "tags": []
          },
          "execution_count": 47
        }
      ]
    },
    {
      "cell_type": "code",
      "metadata": {
        "id": "hDDlRTq8QRYh",
        "colab_type": "code",
        "colab": {
          "base_uri": "https://localhost:8080/",
          "height": 34
        },
        "outputId": "ba4eeace-12ef-4fec-fb96-2c83f22e9eb1"
      },
      "source": [
        "(define (image-classify x y)\n",
        "(if (= x y) \n",
        "  \"square\" (if (> x y)\n",
        "    \"tall\" (if (> y x)\n",
        "      \"wide\"\n",
        "    )\n",
        "  )\n",
        ")\n",
        ")\n",
        "(image-classify 6 3)"
      ],
      "execution_count": null,
      "outputs": [
        {
          "output_type": "execute_result",
          "data": {
            "text/plain": [
              "\"tall\""
            ]
          },
          "metadata": {
            "tags": []
          },
          "execution_count": 58
        }
      ]
    },
    {
      "cell_type": "code",
      "metadata": {
        "id": "Qr_6rUvCRJLd",
        "colab_type": "code",
        "colab": {
          "base_uri": "https://localhost:8080/",
          "height": 34
        },
        "outputId": "a15e667a-0bb1-4de6-9338-e9f2118e3fe4"
      },
      "source": [
        "(define (string-join x y)\n",
        "(string-append x \"_\" y)\n",
        ")\n",
        "(string-join \"hello\" \"world\")"
      ],
      "execution_count": null,
      "outputs": [
        {
          "output_type": "execute_result",
          "data": {
            "text/plain": [
              "\"hello_world\""
            ]
          },
          "metadata": {
            "tags": []
          },
          "execution_count": 55
        }
      ]
    },
    {
      "cell_type": "code",
      "metadata": {
        "id": "GgZ0ls6RRyJG",
        "colab_type": "code",
        "colab": {
          "base_uri": "https://localhost:8080/",
          "height": 34
        },
        "outputId": "4c4c6416-8eaa-4adb-c0bf-7d26db3aaf43"
      },
      "source": [
        "(define (string-insert x y)\n",
        "(if (>= (string-length x) y)\n",
        "  (let \n",
        "    ((prefix (substring x 0 y)) (suffix (substring x y)))\n",
        "    (string-append prefix \"_\" suffix)\n",
        "  ) #f\n",
        ")\n",
        ")\n",
        "(string-insert \"helloworld\" 5)"
      ],
      "execution_count": null,
      "outputs": [
        {
          "output_type": "execute_result",
          "data": {
            "text/plain": [
              "\"hello_world\""
            ]
          },
          "metadata": {
            "tags": []
          },
          "execution_count": 82
        }
      ]
    },
    {
      "cell_type": "code",
      "metadata": {
        "id": "b9EtozZNYV-U",
        "colab_type": "code",
        "colab": {
          "base_uri": "https://localhost:8080/",
          "height": 34
        },
        "outputId": "4caa6b90-6a31-45ff-bc8f-ce4234d4d22b"
      },
      "source": [
        "(define (string-delete x y)\n",
        "(if (>= (string-length x) y)\n",
        "  (let \n",
        "    ((prefix (substring x 0 y)) \n",
        "    (substring x (+ y 1))\n",
        "    )\n",
        "    (string-append prefix suffix)\n",
        "  ) #f\n",
        ")\n",
        ")\n",
        "(string-delete \"hello world\" 5)"
      ],
      "execution_count": null,
      "outputs": [
        {
          "output_type": "execute_result",
          "data": {
            "text/plain": [
              "\"helloworld\""
            ]
          },
          "metadata": {
            "tags": []
          },
          "execution_count": 85
        }
      ]
    },
    {
      "cell_type": "code",
      "metadata": {
        "id": "uQrr_W9_Pjcz",
        "colab_type": "code",
        "colab": {}
      },
      "source": [
        "(define read-file (python-eval \"lambda fn: open(fn, 'r').read()\"))\n",
        "(define write-file (python-eval \"lambda fn, data: open(fn, 'w').write(data)\"))"
      ],
      "execution_count": null,
      "outputs": []
    },
    {
      "cell_type": "code",
      "metadata": {
        "id": "vf9k7f2OPlBN",
        "colab_type": "code",
        "colab": {
          "base_uri": "https://localhost:8080/",
          "height": 34
        },
        "outputId": "11aa0bdc-9d6c-4a7b-93cf-313232bcc19f"
      },
      "source": [
        "(define (C f)\n",
        "  (* 5/9 (- f 32)))\n",
        "(C -30)"
      ],
      "execution_count": null,
      "outputs": [
        {
          "output_type": "execute_result",
          "data": {
            "text/plain": [
              "-310/9"
            ]
          },
          "metadata": {
            "tags": []
          },
          "execution_count": 10
        }
      ]
    },
    {
      "cell_type": "code",
      "metadata": {
        "id": "I6_yZQ4ZRYJe",
        "colab_type": "code",
        "colab": {}
      },
      "source": [
        "(define (convert in out)\n",
        "  (write-file out\n",
        "    (string-append\n",
        "      (number->string\n",
        "        (C\n",
        "          (string->number\n",
        "            (read-file in))))\n",
        "      \"\\n\")))"
      ],
      "execution_count": null,
      "outputs": []
    },
    {
      "cell_type": "code",
      "metadata": {
        "id": "6msErSoGTI1p",
        "colab_type": "code",
        "colab": {
          "base_uri": "https://localhost:8080/",
          "height": 34
        },
        "outputId": "f1959af9-1d0b-4159-b7c6-b315b0009178"
      },
      "source": [
        "(write-file \"sample.dat\" \"212\")\n",
        "(write-file \"out.dat\" \"\")\n",
        "\n",
        "(convert \"sample.dat\" \"out.dat\")\n",
        "(read-file \"out.dat\")"
      ],
      "execution_count": null,
      "outputs": [
        {
          "output_type": "execute_result",
          "data": {
            "text/plain": [
              "\"100\\n\""
            ]
          },
          "metadata": {
            "tags": []
          },
          "execution_count": 32
        }
      ]
    },
    {
      "cell_type": "code",
      "metadata": {
        "id": "qT7xDnCVUMJ7",
        "colab_type": "code",
        "colab": {}
      },
      "source": [
        "(define (letter fst lst signature-name)\n",
        "  (string-append\n",
        "    (opening fst)\n",
        "    \"\\n\\n\"\n",
        "    (body fst lst)\n",
        "    \"\\n\\n\"\n",
        "    (closing signature-name)))\n",
        " \n",
        "(define (opening fst)\n",
        "  (string-append \"Dear \" fst \",\"))\n",
        " \n",
        "(define (body fst lst)\n",
        "  (string-append\n",
        "   \"We have discovered that all people with the\" \"\\n\"\n",
        "   \"last name \" lst \" have won our lottery. So, \" \"\\n\"\n",
        "   fst \", \" \"hurry and pick up your prize.\"))\n",
        " \n",
        "(define (closing signature-name)\n",
        "  (string-append\n",
        "   \"Sincerely,\"\n",
        "   \"\\n\\n\"\n",
        "   signature-name\n",
        "   \"\\n\"))"
      ],
      "execution_count": 1,
      "outputs": []
    },
    {
      "cell_type": "code",
      "metadata": {
        "id": "XFck_0gtURLY",
        "colab_type": "code",
        "colab": {
          "base_uri": "https://localhost:8080/",
          "height": 187
        },
        "outputId": "9f5c6013-fd0b-4af2-fd2c-70d5ce58e2f1"
      },
      "source": [
        "(print (letter \"Mike\" \"Ross\" \"Spencer\"))"
      ],
      "execution_count": null,
      "outputs": [
        {
          "output_type": "stream",
          "text": [
            "\"Dear Mike,\n",
            "\n",
            "We have discovered that all people with the\n",
            "last name Ross have won our lottery. So, \n",
            "Mike, hurry and pick up your prize.\n",
            "\n",
            "Sincerely,\n",
            "\n",
            "Spencer\n",
            "\"\n"
          ],
          "name": "stdout"
        }
      ]
    },
    {
      "cell_type": "code",
      "metadata": {
        "id": "DmQlUzIFVMB_",
        "colab_type": "code",
        "colab": {}
      },
      "source": [
        "(define (main in-fst in-lst in-signature out)\n",
        "  (write-file out\n",
        "              (letter (read-file in-fst)\n",
        "                      (read-file in-lst)\n",
        "                      (read-file in-signature))))"
      ],
      "execution_count": null,
      "outputs": []
    },
    {
      "cell_type": "code",
      "metadata": {
        "id": "mlcIhJNNVRAh",
        "colab_type": "code",
        "colab": {
          "base_uri": "https://localhost:8080/",
          "height": 34
        },
        "outputId": "699b12ab-71a2-4f81-93ef-e721fd5089a7"
      },
      "source": [
        "(write-file \"in-fst\" \"Mike\")\n",
        "(write-file \"in-lst\" \"Ross\")\n",
        "(write-file \"in-signature\" \"Spencer\")\n",
        "\n",
        "(main \"in-fst\" \"in-lst\" \"in-signature\" \"out\")"
      ],
      "execution_count": null,
      "outputs": [
        {
          "output_type": "execute_result",
          "data": {
            "text/plain": [
              "155"
            ]
          },
          "metadata": {
            "tags": []
          },
          "execution_count": 40
        }
      ]
    },
    {
      "cell_type": "code",
      "metadata": {
        "id": "fcuiNTDqVmh3",
        "colab_type": "code",
        "colab": {
          "base_uri": "https://localhost:8080/",
          "height": 187
        },
        "outputId": "8566bc3e-ba75-4043-a9b8-5e163288d186"
      },
      "source": [
        "(print (read-file \"out\"))"
      ],
      "execution_count": null,
      "outputs": [
        {
          "output_type": "stream",
          "text": [
            "\"Dear Mike,\n",
            "\n",
            "We have discovered that all people with the\n",
            "last name Ross have won our lottery. So, \n",
            "Mike, hurry and pick up your prize.\n",
            "\n",
            "Sincerely,\n",
            "\n",
            "Spencer\n",
            "\"\n"
          ],
          "name": "stdout"
        }
      ]
    },
    {
      "cell_type": "code",
      "metadata": {
        "id": "yti1ObLmG_MQ",
        "colab_type": "code",
        "colab": {}
      },
      "source": [
        "(define-syntax -concat-name\n",
        "  [(-concat-name ?a ?b) (string->symbol (string-append (symbol->string '?a) (symbol->string '?b)))]\n",
        ")\n",
        "\n",
        "(define-syntax -symbol-alist\n",
        "  [(-symbol-alist ?n ?a . ?b) (cons (list '?a ?n) (-symbol-alist (+ ?n 1) . ?b))]\n",
        "  [(-symbol-alist ?n) '()])\n",
        "\n",
        "(define (-define-propgetx struct prop index)\n",
        "  (let* [\n",
        "    (symbol-append (lambda (parts) (string->symbol (apply string-append parts))))\n",
        "    (structname (symbol->string struct))\n",
        "    (propname (symbol->string prop))\n",
        "    (struct? (symbol-append (list structname \"?\")))\n",
        "    (struct-prop (symbol-append (list structname \"-\" propname)))\n",
        "  ]\n",
        "  (list 'define (list struct-prop 'x)\n",
        "    (list 'if (list struct? 'x)\n",
        "      (list 'list-ref 'x index)\n",
        "      (list 'error (symbol->string struct-prop) \"expects ~a, given ~a\" structname 'x)\n",
        "    )\n",
        "  ))\n",
        ")\n",
        "\n",
        "(define-syntax define-struct\n",
        "  [(define-struct ?name ?props) (begin\n",
        "     (eval (list 'define (-concat-name make- ?name) '(lambda ?props (list '?name . ?props))))\n",
        "     (eval (list 'define (-concat-name ?name ?) '(lambda (x) (and (pair? x) (eq? (car x) '?name) (= (length '?props) (length (cdr x)))))))\n",
        "     (for-each (lambda (p)\n",
        "       (eval (apply (lambda (prop x) (-define-propgetx '?name prop x)) p))\n",
        "     ) (-symbol-alist 1 . ?props))\n",
        "  )]\n",
        ")\n",
        "\n",
        "(define-struct posn [x y])\n",
        "\n",
        "(define (sqr x)\n",
        "  (* x x )\n",
        ")"
      ],
      "execution_count": 2,
      "outputs": []
    },
    {
      "cell_type": "code",
      "metadata": {
        "id": "15CwPRAAHMas",
        "colab_type": "code",
        "colab": {
          "base_uri": "https://localhost:8080/",
          "height": 34
        },
        "outputId": "e01519b1-6392-433c-cedd-5979b481a4a2"
      },
      "source": [
        "(define p (make-posn 31 26))\n",
        "(posn-x p)\n",
        "(posn-y p)"
      ],
      "execution_count": null,
      "outputs": [
        {
          "output_type": "execute_result",
          "data": {
            "text/plain": [
              "26"
            ]
          },
          "metadata": {
            "tags": []
          },
          "execution_count": 3
        }
      ]
    },
    {
      "cell_type": "code",
      "metadata": {
        "id": "f15dqJaAPhxT",
        "colab_type": "code",
        "colab": {
          "base_uri": "https://localhost:8080/",
          "height": 34
        },
        "outputId": "e5d3024e-8a65-4773-f404-2049fde1654a"
      },
      "source": [
        "(define (distance-to-0 ap)\n",
        "  (sqrt\n",
        "    (+ (sqr (posn-x ap))\n",
        "       (sqr (posn-y ap)))))\n",
        "\n",
        "(distance-to-0 (make-posn 3 4))"
      ],
      "execution_count": null,
      "outputs": [
        {
          "output_type": "execute_result",
          "data": {
            "text/plain": [
              "5.0"
            ]
          },
          "metadata": {
            "tags": []
          },
          "execution_count": 4
        }
      ]
    },
    {
      "cell_type": "code",
      "metadata": {
        "id": "VqacI21aX6lS",
        "colab_type": "code",
        "colab": {
          "base_uri": "https://localhost:8080/",
          "height": 34
        },
        "outputId": "b147dcd0-121a-45bf-ac06-d47080045813"
      },
      "source": [
        "(define (manhattan-distance ap)\n",
        "  (+\n",
        "    (+ (posn-x ap)\n",
        "       (posn-y ap)\n",
        "    )\n",
        "  )\n",
        ")\n",
        "\n",
        "(manhattan-distance (make-posn 3 4))"
      ],
      "execution_count": null,
      "outputs": [
        {
          "output_type": "execute_result",
          "data": {
            "text/plain": [
              "7"
            ]
          },
          "metadata": {
            "tags": []
          },
          "execution_count": 4
        }
      ]
    },
    {
      "cell_type": "code",
      "metadata": {
        "id": "zciyM94tpFZP",
        "colab_type": "code",
        "colab": {}
      },
      "source": [
        "(define-struct vel [deltax deltay])"
      ],
      "execution_count": 3,
      "outputs": []
    },
    {
      "cell_type": "code",
      "metadata": {
        "id": "DbjUqzuVoWYj",
        "colab_type": "code",
        "colab": {
          "base_uri": "https://localhost:8080/",
          "height": 34
        },
        "outputId": "9df3dee7-7c76-4896-ccea-6909a4d5c46a"
      },
      "source": [
        "(define (posn+ p v)\n",
        "  (make-posn\n",
        "    (+ (posn-x p)\n",
        "      (vel-deltax v)   \n",
        "    )\n",
        "    (+ (posn-y p)\n",
        "      (vel-deltay v)\n",
        "    )\n",
        "  )\n",
        ")\n",
        "\n",
        "(posn+ (make-posn 3 4) (make-vel 2 -5))"
      ],
      "execution_count": null,
      "outputs": [
        {
          "output_type": "execute_result",
          "data": {
            "text/plain": [
              "(posn 5 -1)"
            ]
          },
          "metadata": {
            "tags": []
          },
          "execution_count": 20
        }
      ]
    },
    {
      "cell_type": "code",
      "metadata": {
        "id": "znU0WGXG1PJL",
        "colab_type": "code",
        "colab": {
          "base_uri": "https://localhost:8080/",
          "height": 34
        },
        "outputId": "f540dcef-0904-4588-ed86-6acbe7e1340e"
      },
      "source": [
        "(define (vel* v n)\n",
        "  (make-vel\n",
        "    (* (vel-deltax v) \n",
        "    n)\n",
        "    (* (vel-deltay v)\n",
        "    n)\n",
        "  )\n",
        ")\n",
        "\n",
        "(vel* (make-vel 4 6) 2)"
      ],
      "execution_count": null,
      "outputs": [
        {
          "output_type": "execute_result",
          "data": {
            "text/plain": [
              "(vel 8 12)"
            ]
          },
          "metadata": {
            "tags": []
          },
          "execution_count": 21
        }
      ]
    },
    {
      "cell_type": "code",
      "metadata": {
        "id": "HwK7-fuG4vGW",
        "colab_type": "code",
        "colab": {
          "base_uri": "https://localhost:8080/",
          "height": 34
        },
        "outputId": "6f06b85e-a8fc-4e8e-b5b9-213fdc4b8c9d"
      },
      "source": [
        "(define (vel+ v1 v2)\n",
        "  (make-vel\n",
        "  (+ (vel-deltax v1)\n",
        "  (vel-deltax v2)) \n",
        "  (+ (vel-deltay v1)\n",
        "  (vel-deltay v2))\n",
        "  )\n",
        ")\n",
        "\n",
        "(vel+ (make-vel 2 5) (make-vel 7 3))"
      ],
      "execution_count": null,
      "outputs": [
        {
          "output_type": "execute_result",
          "data": {
            "text/plain": [
              "(vel 9 8)"
            ]
          },
          "metadata": {
            "tags": []
          },
          "execution_count": 6
        }
      ]
    },
    {
      "cell_type": "code",
      "metadata": {
        "id": "RCTiWnxFU1kq",
        "colab_type": "code",
        "colab": {}
      },
      "source": [
        "(define-struct Car [engineStatus carDoor mileage fuelStatus])\n",
        "(define-struct FuelStatus [maxFuel currentFuel fuelUsed])\n",
        "\n",
        "(define (carControl fuelCapacity)\n",
        "  (make-Car #f #t 0\n",
        "    (make-FuelStatus fuelCapacity (/ fuelCapacity 2) 0)\n",
        "  )\n",
        ")\n",
        "\n",
        "(define vehicle (carControl 250))"
      ],
      "execution_count": 11,
      "outputs": []
    },
    {
      "cell_type": "code",
      "metadata": {
        "id": "wjBP_I8SQDz3",
        "colab_type": "code",
        "colab": {
          "base_uri": "https://localhost:8080/",
          "height": 34
        },
        "outputId": "6ea57eb6-616b-4d29-b9b2-43943b4414e4"
      },
      "source": [
        "(define (Car-currentFuel vehicle) \n",
        "  (FuelStatus-currentFuel \n",
        "    (Car-fuelStatus vehicle)\n",
        "  )\n",
        ")\n",
        "\n",
        "(Car-currentFuel vehicle)"
      ],
      "execution_count": 15,
      "outputs": [
        {
          "output_type": "execute_result",
          "data": {
            "text/plain": [
              "125"
            ]
          },
          "metadata": {
            "tags": []
          },
          "execution_count": 15
        }
      ]
    },
    {
      "cell_type": "code",
      "metadata": {
        "id": "GPX8ZGctX7RN",
        "colab_type": "code",
        "colab": {
          "base_uri": "https://localhost:8080/",
          "height": 34
        },
        "outputId": "634418a6-8516-4144-a1ae-9b498fcceb50"
      },
      "source": [
        "(define (Car-addFuel vehicle addedFuel)\n",
        "  (FuelStatus-addFuel (Car-fuelStatus vehicle) addedFuel)\n",
        ")\n",
        "\n",
        "(Car-addFuel vehicle 25)"
      ],
      "execution_count": 47,
      "outputs": [
        {
          "output_type": "execute_result",
          "data": {
            "text/plain": [
              "(FuelStatus 250 150 0)"
            ]
          },
          "metadata": {
            "tags": []
          },
          "execution_count": 47
        }
      ]
    },
    {
      "cell_type": "code",
      "metadata": {
        "id": "LS-5DyU32UKX",
        "colab_type": "code",
        "colab": {
          "base_uri": "https://localhost:8080/",
          "height": 34
        },
        "outputId": "4c0b5304-acf9-41ca-c77a-ad0a649365d1"
      },
      "source": [
        "(define (Car-doorControl vehicle doorStatus)\n",
        "  (make-Car (Car-engineStatus vehicle) doorStatus (Car-mileage vehicle) (Car-fuelStatus vehicle)\n",
        "  )\n",
        ")\n",
        "\n",
        "(Car-doorControl vehicle #f)"
      ],
      "execution_count": 31,
      "outputs": [
        {
          "output_type": "execute_result",
          "data": {
            "text/plain": [
              "(Car #f #f 0 (FuelStatus 250 125 0))"
            ]
          },
          "metadata": {
            "tags": []
          },
          "execution_count": 31
        }
      ]
    },
    {
      "cell_type": "code",
      "metadata": {
        "id": "D3OeVHexsaGV",
        "colab_type": "code",
        "colab": {
          "base_uri": "https://localhost:8080/",
          "height": 34
        },
        "outputId": "de19bd58-5619-4898-efe3-bc3a134cc995"
      },
      "source": [
        "(define (Car-engineControl vehicle engineStatus)\n",
        "  (make-Car engineStatus (Car-carDoor vehicle) (Car-mileage vehicle) (Car-fuelStatus vehicle)\n",
        "  )\n",
        ")\n",
        "\n",
        "(Car-engineControl vehicle #f)"
      ],
      "execution_count": 30,
      "outputs": [
        {
          "output_type": "execute_result",
          "data": {
            "text/plain": [
              "(Car #f #t 0 (FuelStatus 250 125 0))"
            ]
          },
          "metadata": {
            "tags": []
          },
          "execution_count": 30
        }
      ]
    },
    {
      "cell_type": "code",
      "metadata": {
        "id": "8-AXICAmFNZK",
        "colab_type": "code",
        "colab": {
          "base_uri": "https://localhost:8080/",
          "height": 34
        },
        "outputId": "24852102-97fb-4f43-9f8a-18e3c07442c1"
      },
      "source": [
        "(define (FuelStatus-addFuel vehicle amount)\n",
        "  (make-FuelStatus (FuelStatus-maxFuel vehicle) \n",
        "    (+ (FuelStatus-currentFuel vehicle) amount)\n",
        "  (FuelStatus-fuelUsed vehicle)\n",
        "  )\n",
        ")\n",
        "\n",
        "(FuelStatus-addFuel (Car-fuelStatus vehicle) 26)"
      ],
      "execution_count": 46,
      "outputs": [
        {
          "output_type": "execute_result",
          "data": {
            "text/plain": [
              "(FuelStatus 250 151 0)"
            ]
          },
          "metadata": {
            "tags": []
          },
          "execution_count": 46
        }
      ]
    },
    {
      "cell_type": "code",
      "metadata": {
        "id": "-me-TQrIIFuo",
        "colab_type": "code",
        "colab": {
          "base_uri": "https://localhost:8080/",
          "height": 34
        },
        "outputId": "0717e012-0756-4c22-b616-e63547847e3b"
      },
      "source": [
        "(define (FuelStatus-trackUsed vehicle amount)\n",
        "  (make-FuelStatus (FuelStatus-maxFuel vehicle) (FuelStatus-currentFuel vehicle)\n",
        "    (+ (FuelStatus-fuelUsed vehicle) amount)\n",
        "  )\n",
        ")\n",
        "\n",
        "(FuelStatus-trackUsed (Car-fuelStatus vehicle) 72)"
      ],
      "execution_count": 51,
      "outputs": [
        {
          "output_type": "execute_result",
          "data": {
            "text/plain": [
              "(FuelStatus 250 125 72)"
            ]
          },
          "metadata": {
            "tags": []
          },
          "execution_count": 51
        }
      ]
    },
    {
      "cell_type": "code",
      "metadata": {
        "id": "Hu0Xu9n1KXcc",
        "colab_type": "code",
        "colab": {
          "base_uri": "https://localhost:8080/",
          "height": 34
        },
        "outputId": "393a21a7-4499-4d80-f2a8-e673bd6395d2"
      },
      "source": [
        "(define (FuelStatus-setCapacity vehicle amount)\n",
        "  (make-FuelStatus amount (FuelStatus-currentFuel vehicle) (FuelStatus-fuelUsed vehicle)\n",
        "  )\n",
        ")\n",
        "\n",
        "(FuelStatus-setCapacity (Car-fuelStatus vehicle) 350)"
      ],
      "execution_count": 54,
      "outputs": [
        {
          "output_type": "execute_result",
          "data": {
            "text/plain": [
              "(FuelStatus 350 125 0)"
            ]
          },
          "metadata": {
            "tags": []
          },
          "execution_count": 54
        }
      ]
    }
  ]
}